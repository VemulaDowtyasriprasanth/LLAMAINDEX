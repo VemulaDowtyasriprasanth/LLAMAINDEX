{
 "cells": [
  {
   "cell_type": "code",
   "execution_count": null,
   "id": "ee4a7105-3554-462d-b8c1-00c12128d636",
   "metadata": {
    "tags": []
   },
   "outputs": [],
   "source": [
    "# Setup OpenAI Agent\n",
    "import openai\n",
    "\n",
    "openai.api_key = \"sk-your-key\""
   ]
  },
  {
   "cell_type": "code",
   "execution_count": 3,
   "id": "68d912dc-8f1d-4f49-8a9a-7cdbac016648",
   "metadata": {
    "tags": []
   },
   "outputs": [],
   "source": [
    "from llama_index.agent import OpenAIAgent"
   ]
  },
  {
   "cell_type": "code",
   "execution_count": 4,
   "id": "f61e4dde-928c-48f4-b9fa-bdb523574aa4",
   "metadata": {
    "tags": []
   },
   "outputs": [],
   "source": [
    "# Import and initialize our tool spec\n",
    "from llama_hub.tools.gmail.base import GmailToolSpec\n",
    "\n",
    "tool_spec = GmailToolSpec()"
   ]
  },
  {
   "cell_type": "code",
   "execution_count": 5,
   "id": "8af5e53a-0d18-48cb-9f12-c2245da81edc",
   "metadata": {
    "tags": []
   },
   "outputs": [],
   "source": [
    "# Create the Agent with our tools\n",
    "agent = OpenAIAgent.from_tools(tool_spec.to_tool_list(), verbose=True)"
   ]
  },
  {
   "cell_type": "code",
   "execution_count": 6,
   "id": "2f038a10-0b35-40eb-a24d-88967e814be9",
   "metadata": {
    "tags": []
   },
   "outputs": [
    {
     "name": "stdout",
     "output_type": "stream",
     "text": [
      "=== Calling Function ===\n",
      "Calling function: create_draft with args: {\n",
      "  \"to\": [\"jerry@runllama.ai\"],\n",
      "  \"subject\": \"Service Outage\",\n",
      "  \"message\": \"Dear Jerry,\\n\\nI wanted to inform you that we are currently experiencing a service outage. Our team is working diligently to resolve the issue as quickly as possible. We apologize for any inconvenience this may cause and appreciate your patience.\\n\\nBest regards,\\n[Your Name]\"\n",
      "}\n",
      "Got output: {'id': 'r-5489306735593612445', 'message': {'id': '1894c4f7409c0391', 'threadId': '1894c4f7409c0391', 'labelIds': ['DRAFT']}}\n",
      "========================\n",
      "I have created a new email draft to Jerry at jerry@runllama.ai regarding the service outage.\n"
     ]
    }
   ],
   "source": [
    "response = agent.chat(\n",
    "    \"Can you create a new email to jerry@runllama.ai about a service outage\"\n",
    ")\n",
    "print(response)"
   ]
  },
  {
   "cell_type": "code",
   "execution_count": 7,
   "id": "82c25451-8327-4adc-a3da-a5f968133c94",
   "metadata": {
    "tags": []
   },
   "outputs": [
    {
     "name": "stdout",
     "output_type": "stream",
     "text": [
      "=== Calling Function ===\n",
      "Calling function: update_draft with args: {\n",
      "  \"draft_id\": \"r-5489306735593612445\",\n",
      "  \"subject\": \"Service Outage\",\n",
      "  \"message\": \"Dear Jerry,\\n\\nI wanted to inform you that we are currently experiencing a service outage. Our team is working diligently to resolve the issue as quickly as possible. We apologize for any inconvenience this may cause and appreciate your patience.\\n\\nBest regards,\\nAdam\"\n",
      "}\n",
      "Got output: {'id': 'r-5489306735593612445', 'message': {'id': '1894c4f986e37132', 'threadId': '1894c4f986e37132', 'labelIds': ['DRAFT']}}\n",
      "========================\n",
      "I have updated the draft email to be from 'Adam' instead of your name.\n"
     ]
    }
   ],
   "source": [
    "response = agent.chat(\"Update the draft so that it's the same but from 'Adam'\")\n",
    "print(response)"
   ]
  },
  {
   "cell_type": "code",
   "execution_count": 8,
   "id": "e7137398-5540-44d8-b36b-7c89380c5205",
   "metadata": {
    "tags": []
   },
   "outputs": [
    {
     "name": "stdout",
     "output_type": "stream",
     "text": [
      "=== Calling Function ===\n",
      "Calling function: get_draft with args: {\n",
      "  \"draft_id\": \"r-5489306735593612445\"\n",
      "}\n",
      "Got output: {'id': 'r-5489306735593612445', 'message': {'id': '1894c4f986e37132', 'threadId': '1894c4f986e37132', 'labelIds': ['DRAFT'], 'snippet': 'Dear Jerry, I wanted to inform you that we are currently experiencing a service outage. Our team is working diligently to resolve the issue as quickly as possible. We apologize for any inconvenience', 'payload': {'partId': '', 'mimeType': 'text/plain', 'filename': '', 'headers': [{'name': 'Received', 'value': 'from 71400538205 named unknown by gmailapi.google.com with HTTPREST; Wed, 12 Jul 2023 15:53:52 -0700'}, {'name': 'Content-Type', 'value': 'text/plain; charset=\"utf-8\"'}, {'name': 'Content-Transfer-Encoding', 'value': 'quoted-printable'}, {'name': 'MIME-Version', 'value': '1.0'}, {'name': 'To', 'value': 'jerry@runllama.ai'}, {'name': 'Subject', 'value': 'Service Outage'}, {'name': 'Date', 'value': 'Wed, 12 Jul 2023 15:53:52 -0700'}, {'name': 'Message-Id', 'value': '<CADhKdwdVEbSM6SXT+1sy-2VJ2Wh7xgv8x1VWbTO8r10LhcMzqA@mail.gmail.com>'}, {'name': 'From', 'value': 'jerryjliu98@gmail.com'}], 'body': {'size': 265, 'data': 'RGVhciBKZXJyeSwKCkkgd2FudGVkIHRvIGluZm9ybSB5b3UgdGhhdCB3ZSBhcmUgY3VycmVudGx5IGV4cGVyaWVuY2luZyBhIHNlcnZpY2Ugb3V0YWdlLiBPdXIgdGVhbSBpcyB3b3JraW5nIGRpbGlnZW50bHkgdG8gcmVzb2x2ZSB0aGUgaXNzdWUgYXMgcXVpY2tseSBhcyBwb3NzaWJsZS4gV2UgYXBvbG9naXplIGZvciBhbnkgaW5jb252ZW5pZW5jZSB0aGlzIG1heSBjYXVzZSBhbmQgYXBwcmVjaWF0ZSB5b3VyIHBhdGllbmNlLgoKQmVzdCByZWdhcmRzLApBZGFtCg=='}}, 'sizeEstimate': 696, 'historyId': '23473931', 'internalDate': '1689202432000'}}\n",
      "========================\n",
      "Here is the draft email:\n",
      "\n",
      "Subject: Service Outage\n",
      "To: jerry@runllama.ai\n",
      "From: Adam\n",
      "\n",
      "Dear Jerry,\n",
      "\n",
      "I wanted to inform you that we are currently experiencing a service outage. Our team is working diligently to resolve the issue as quickly as possible. We apologize for any inconvenience this may cause and appreciate your patience.\n",
      "\n",
      "Best regards,\n",
      "Adam\n"
     ]
    }
   ],
   "source": [
    "response = agent.chat(\"display the draft\")\n",
    "print(response)"
   ]
  },
  {
   "cell_type": "code",
   "execution_count": 9,
   "id": "72eb181f-9c17-4496-a98b-8fd484d087a5",
   "metadata": {
    "tags": []
   },
   "outputs": [
    {
     "name": "stdout",
     "output_type": "stream",
     "text": [
      "=== Calling Function ===\n",
      "Calling function: send_draft with args: {\n",
      "  \"draft_id\": \"r-5489306735593612445\"\n",
      "}\n",
      "Got output: {'id': '1894c4ff50b245cf', 'threadId': '1894c4f986e37132', 'labelIds': ['Label_15', 'SENT']}\n",
      "========================\n"
     ]
    },
    {
     "data": {
      "text/plain": [
       "AgentChatResponse(response='The draft email has been sent.', sources=[ToolOutput(content=\"{'id': '1894c4ff50b245cf', 'threadId': '1894c4f986e37132', 'labelIds': ['Label_15', 'SENT']}\", tool_name='send_draft', raw_input={'args': (), 'kwargs': {'draft_id': 'r-5489306735593612445'}}, raw_output={'id': '1894c4ff50b245cf', 'threadId': '1894c4f986e37132', 'labelIds': ['Label_15', 'SENT']})])"
      ]
     },
     "execution_count": 9,
     "metadata": {},
     "output_type": "execute_result"
    }
   ],
   "source": [
    "agent.chat(\"send the draft email\")"
   ]
  },
  {
   "cell_type": "code",
   "execution_count": null,
   "id": "80af64f0-7eb1-474d-84a9-a885c6231ad3",
   "metadata": {},
   "outputs": [],
   "source": []
  }
 ],
 "metadata": {
  "kernelspec": {
   "display_name": "llama_hub",
   "language": "python",
   "name": "llama_hub"
  },
  "language_info": {
   "codemirror_mode": {
    "name": "ipython",
    "version": 3
   },
   "file_extension": ".py",
   "mimetype": "text/x-python",
   "name": "python",
   "nbconvert_exporter": "python",
   "pygments_lexer": "ipython3",
   "version": "3.10.8"
  }
 },
 "nbformat": 4,
 "nbformat_minor": 5
}
