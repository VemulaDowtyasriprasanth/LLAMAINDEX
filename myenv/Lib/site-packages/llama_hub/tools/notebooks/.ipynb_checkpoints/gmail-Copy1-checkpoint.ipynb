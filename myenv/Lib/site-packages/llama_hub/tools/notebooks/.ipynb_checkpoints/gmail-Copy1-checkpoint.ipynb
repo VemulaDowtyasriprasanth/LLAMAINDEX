{
 "cells": [
  {
   "cell_type": "code",
   "execution_count": null,
   "id": "ee4a7105-3554-462d-b8c1-00c12128d636",
   "metadata": {
    "tags": []
   },
   "outputs": [],
   "source": [
    "# Setup OpenAI Agent\n",
    "import openai\n",
    "openai.api_key = 'sk-your-key'"
   ]
  },
  {
   "cell_type": "code",
   "execution_count": null,
   "id": "68d912dc-8f1d-4f49-8a9a-7cdbac016648",
   "metadata": {
    "tags": []
   },
   "outputs": [],
   "source": [
    "from llama_index.agent import OpenAIAgent"
   ]
  },
  {
   "cell_type": "code",
   "execution_count": null,
   "id": "f61e4dde-928c-48f4-b9fa-bdb523574aa4",
   "metadata": {
    "tags": []
   },
   "outputs": [],
   "source": [
    "# Import and initialize our tool spec\n",
    "from llama_hub.tools.gmail.base import GmailToolSpec\n",
    "tool_spec = GmailToolSpec()"
   ]
  },
  {
   "cell_type": "code",
   "execution_count": null,
   "id": "8af5e53a-0d18-48cb-9f12-c2245da81edc",
   "metadata": {
    "tags": []
   },
   "outputs": [],
   "source": [
    "# Create the Agent with our tools\n",
    "agent = OpenAIAgent.from_tools(tool_spec.to_tool_list(), verbose=True)"
   ]
  },
  {
   "cell_type": "code",
   "execution_count": null,
   "id": "2f038a10-0b35-40eb-a24d-88967e814be9",
   "metadata": {
    "tags": []
   },
   "outputs": [],
   "source": [
    "response = agent.chat('Can you create a new email to jerry@runllama.ai about a service outage')\n",
    "print(response)"
   ]
  },
  {
   "cell_type": "code",
   "execution_count": null,
   "id": "82c25451-8327-4adc-a3da-a5f968133c94",
   "metadata": {
    "tags": []
   },
   "outputs": [],
   "source": [
    "response = agent.chat(\"Update the draft so that it's the same but from 'Adam'\")\n",
    "print(response)"
   ]
  },
  {
   "cell_type": "code",
   "execution_count": null,
   "id": "e7137398-5540-44d8-b36b-7c89380c5205",
   "metadata": {
    "tags": []
   },
   "outputs": [],
   "source": [
    "response = agent.chat('display the draft')\n",
    "print(response)"
   ]
  },
  {
   "cell_type": "code",
   "execution_count": null,
   "id": "72eb181f-9c17-4496-a98b-8fd484d087a5",
   "metadata": {
    "tags": []
   },
   "outputs": [],
   "source": [
    "agent.chat(\"send the draft email\")"
   ]
  },
  {
   "cell_type": "code",
   "execution_count": null,
   "id": "80af64f0-7eb1-474d-84a9-a885c6231ad3",
   "metadata": {},
   "outputs": [],
   "source": []
  }
 ],
 "metadata": {
  "kernelspec": {
   "display_name": "llama_hub",
   "language": "python",
   "name": "llama_hub"
  },
  "language_info": {
   "codemirror_mode": {
    "name": "ipython",
    "version": 3
   },
   "file_extension": ".py",
   "mimetype": "text/x-python",
   "name": "python",
   "nbconvert_exporter": "python",
   "pygments_lexer": "ipython3",
   "version": "3.10.8"
  }
 },
 "nbformat": 4,
 "nbformat_minor": 5
}
