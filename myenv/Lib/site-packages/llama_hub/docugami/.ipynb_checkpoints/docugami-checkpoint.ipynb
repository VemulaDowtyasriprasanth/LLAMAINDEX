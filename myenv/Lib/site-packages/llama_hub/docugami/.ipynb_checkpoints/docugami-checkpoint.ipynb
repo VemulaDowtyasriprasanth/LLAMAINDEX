{
 "cells": [
  {
   "cell_type": "code",
   "execution_count": 5,
   "metadata": {},
   "outputs": [
    {
     "name": "stdout",
     "output_type": "stream",
     "text": [
      "The autoreload extension is already loaded. To reload it, use:\n",
      "  %reload_ext autoreload\n"
     ]
    }
   ],
   "source": [
    "%load_ext autoreload\n",
    "%autoreload 2"
   ]
  },
  {
   "attachments": {},
   "cell_type": "markdown",
   "metadata": {},
   "source": [
    "# Docugami\n",
    "This notebook covers how to load documents from `Docugami`. See [README](./README.md) for more details, and the advantages of using this system over alternative data loaders.\n",
    "\n",
    "## Prerequisites\n",
    "1. Follow the Quick Start section in [README](./README.md)\n",
    "2. Grab an access token for your workspace, and make sure it is set as the DOCUGAMI_API_KEY environment variable\n",
    "3. Grab some docset and document IDs for your processed documents, as described here: https://help.docugami.com/home/docugami-api"
   ]
  },
  {
   "attachments": {},
   "cell_type": "markdown",
   "metadata": {},
   "source": [
    "## Load Documents\n",
    "\n",
    "If the DOCUGAMI_API_KEY environment variable is set, there is no need to pass it in to the loader explicitly otherwise you can pass it in as the `access_token` parameter."
   ]
  },
  {
   "cell_type": "code",
   "execution_count": null,
   "metadata": {},
   "outputs": [],
   "source": [
    "from llama_index import download_loader\n",
    "\n",
    "DocugamiReader = download_loader('DocugamiReader')\n",
    "\n",
    "docset_id=\"ecxqpipcoe2p\"\n",
    "document_ids=[\"43rj0ds7s0ur\", \"bpc1vibyeke2\"]\n",
    "\n",
    "loader = DocugamiReader()\n",
    "documents = loader.load_data(docset_id=docset_id, document_ids=document_ids)\n",
    "documents"
   ]
  },
  {
   "cell_type": "markdown",
   "metadata": {},
   "source": [
    "The `metadata` for each `Document` (really, a chunk of an actual PDF, DOC or DOCX) contains some useful additional information:\n",
    "\n",
    "1. **id and name:** ID and Name of the file (PDF, DOC or DOCX) the chunk is sourced from within Docugami.\n",
    "2. **xpath:** XPath inside the XML representation of the document, for the chunk. Useful for source citations directly to the actual chunk inside the document XML.\n",
    "3. **structure:** Structural attributes of the chunk, e.g. h1, h2, div, table, td, etc. Useful to filter out certain kinds of chunks if needed by the caller.\n",
    "4. **tag:** Semantic tag for the chunk, using various generative and extractive techniques. More details here: https://github.com/docugami/DFM-benchmarks"
   ]
  },
  {
   "attachments": {},
   "cell_type": "markdown",
   "metadata": {},
   "source": [
    "## Basic Use: Docugami Loader for Document QA\n",
    "\n",
    "You can use the Docugami Loader like a standard loader for Document QA over multiple docs, albeit with much better chunks that follow the natural contours of the document. There are many great tutorials on how to do this, e.g. [this one](https://gpt-index.readthedocs.io/en/latest/getting_started/starter_example.html). We can just use the same code, but use the `DocugamiLoader` for better chunking, instead of loading text or PDF files directly with basic splitting techniques."
   ]
  },
  {
   "cell_type": "code",
   "execution_count": 3,
   "metadata": {},
   "outputs": [],
   "source": [
    "from llama_index import GPTVectorStoreIndex\n",
    "\n",
    "DocugamiReader = download_loader('DocugamiReader')\n",
    "\n",
    "# For this example, we already have a processed docset for a set of lease documents\n",
    "docset_id=\"wh2kned25uqm\"\n",
    "documents = loader.load_data(docset_id=docset_id)"
   ]
  },
  {
   "attachments": {},
   "cell_type": "markdown",
   "metadata": {},
   "source": [
    "The documents returned by the loader are already split into chunks. Optionally, we can use the metadata on each chunk, for example the structure or tag attributes, to do any post-processing we want.\n",
    "\n",
    "We will just use the output of the `DocugamiLoader` as-is to set up a query engine the usual way."
   ]
  },
  {
   "cell_type": "code",
   "execution_count": 4,
   "metadata": {},
   "outputs": [],
   "source": [
    "index = GPTVectorStoreIndex.from_documents(documents)\n",
    "query_engine = index.as_query_engine(similarity_top_k=5)"
   ]
  },
  {
   "cell_type": "code",
   "execution_count": 6,
   "metadata": {},
   "outputs": [
    {
     "name": "stdout",
     "output_type": "stream",
     "text": [
      "\n",
      "Tenants can place or attach signs (digital or otherwise) or other forms of identification to their properties after receiving written permission from the landlord. Any signs or other forms of identification must conform to all applicable laws, ordinances, etc. governing the same. Tenants must also have any window or glass identification completely removed and cleaned at their expense promptly upon vacating the premises.\n",
      "NodeWithScore(node=Node(text='Signage.  Tenant  may place or attach to the  Premises signs  (digital or otherwise) or other such identification as needed after receiving written permission from the  Landlord , which permission shall not be unreasonably withheld. Any damage caused to the Premises by the  Tenant ’s erecting or removing such signs shall be repaired promptly by the  Tenant  at the  Tenant ’s expense . Any signs or other form of identification allowed must conform to all applicable laws, ordinances, etc. governing the same.  Tenant  also agrees to have any window or glass identification completely removed and cleaned at its expense promptly upon vacating the Premises. \\n\\n                                                          ARTICLE  VII  UTILITIES 7.01', doc_id='1e89f5bf-0cb6-491a-acf6-8be9e6dc6ffb', embedding=None, doc_hash='50e3892892d18199d6b6db4d6205beb327f09b031539afc9e9b239548639a89d', extra_info={'xpath': '/docset:OFFICELEASEAGREEMENT-section/docset:OFFICELEASEAGREEMENT/docset:ThisOFFICELEASEAGREEMENTThis/docset:ArticleIBasic/docset:ArticleIiiUseAndCareOf/docset:ARTICLEIIIUSEANDCAREOFPREMISES-section/docset:ARTICLEIIIUSEANDCAREOFPREMISES/docset:NoOtherPurposes/docset:TenantsResponsibility/dg:chunk', 'id': 'g2fvhekmltza', 'name': 'TruTone Lane 6.pdf', 'structure': 'lim', 'tag': 'chunk'}, node_info={'start': 0, 'end': 747}, relationships={<DocumentRelationship.SOURCE: '1'>: '84779dc3-a104-4bff-bced-f7e2dde58cc1'}), score=0.8617797232715348)\n",
      "NodeWithScore(node=Node(text=\"24. SIGNS . No signage shall be placed by  Tenant  on any portion of the  Project . However,  Tenant  shall be permitted to place a sign bearing its name in a location approved by  Landlord  near the entrance to the  Premises  (at  Tenant's cost ) and will be furnished a single listing of its name in the  Building's directory  (at  Landlord 's cost ), all in accordance with the criteria adopted  from time to time  by  Landlord  for the  Project . Any changes or additional listings in the directory shall be furnished (subject to availability of space) for the  then Building Standard charge .\", doc_id='ac44b4fe-551d-4b17-9100-0889c4842f5f', embedding=None, doc_hash='d383b8792e586979e3082ebd4f9e06121f663a53ffd6a712c5622f5cec65bba5', extra_info={'xpath': '/docset:OFFICELEASE-section/docset:OFFICELEASE/docset:THISOFFICELEASE/docset:WITNESSETH-section/docset:WITNESSETH/docset:GrossRentCreditTheRentCredit-section/docset:GrossRentCreditTheRentCredit/docset:Period/docset:ApplicableSalesTax/docset:PercentageRent/docset:TheTerms/docset:Indemnification/docset:INDEMNIFICATION-section/docset:INDEMNIFICATION/docset:Waiver/docset:Waiver/docset:Signs/docset:SIGNS-section/docset:SIGNS', 'id': 'qkn9cyqsiuch', 'name': 'Shorebucks LLC_AZ.pdf', 'structure': 'div', 'tag': 'SIGNS'}, node_info={'start': 0, 'end': 597}, relationships={<DocumentRelationship.SOURCE: '1'>: 'eccd7773-5fcf-4064-8f62-67f45c724ecd'}), score=0.8508437736864953)\n",
      "NodeWithScore(node=Node(text='ARTICLE VI  SIGNAGE 6.01  Signage . Tenant  may place or attach to the  Premises signs  (digital or otherwise) or other such identification as needed after receiving written permission from the  Landlord , which permission shall not be unreasonably withheld. Any damage caused to the Premises by the  Tenant ’s erecting or removing such signs shall be repaired promptly by the  Tenant  at the  Tenant ’s expense . Any signs or other form of identification allowed must conform to all applicable laws, ordinances, etc. governing the same.  Tenant  also agrees to have any window or glass identification completely removed and cleaned at its expense promptly upon vacating the Premises.', doc_id='7aa86f41-d711-42bd-94ed-fc99f7c90443', embedding=None, doc_hash='9cf87806118da7fa99be843c9f926302b5ccf1716ceec2fa2352b5f8726182c1', extra_info={'xpath': '/docset:OFFICELEASEAGREEMENT-section/docset:OFFICELEASEAGREEMENT/docset:Article/docset:ARTICLEVISIGNAGE-section/docset:_601Signage-section/docset:_601Signage', 'id': 'v1bvgaozfkak', 'name': 'TruTone Lane 2.docx', 'structure': 'div', 'tag': '_601Signage'}, node_info={'start': 0, 'end': 684}, relationships={<DocumentRelationship.SOURCE: '1'>: '1afd38c9-900b-4e5d-902a-020f0b824751'}), score=0.8491465492763234)\n",
      "NodeWithScore(node=Node(text=\"44 . Signs And  Exterior Appearance Tenant  agrees that all signs, awnings, protective gates, security devices and other installations visible from the exterior of the Premises shall be subject to  Landlord 's prior written approval , shall be subject to the prior approval of the  Landmarks Preservation Commission  of the  City  of  New  York , if required, and shall not interfere with or block either of the adjacent stores, provided, however, that  Landlord  shall not unreasonably withhold consent for signs that  Tenant  desires  to install.  Tenant  agrees that any permitted signs, awnings, protective gates, security devices, and other installations shall be installed at  Tenant ’s sole cost  and expense professionally prepared and dignified and subject to  Landlord 's prior written approval , which shall not be unreasonably withheld, delayed or conditioned, and subject to such reasonable rules and restrictions as  Landlord  from time to time  may impose.  Tenant  shall submit to  Landlord  drawings  of the proposed signs and other installations, showing the size, color, illumination and general appearance thereof, together with a statement of the manner in which the same are to be affixed to the Premises.  Tenant  shall not commence the installation of the proposed signs and other installations unless and until  Landlord  shall have approved the same in writing. .  Tenant  shall not install any neon sign. The aforesaid signs shall be used solely for the purpose of identifying  Tenant 's business . No changes shall be made in the signs and other installations without first obtaining  Landlord 's prior written consent  thereto, which consent shall not be unreasonably withheld, delayed or conditioned.  Tenant  shall, at its own cost and expense, obtain and exhibit to  Landlord  such permits or certificates of approval as  Tenant  may be required to obtain from any and all  City ,  State  and other authorities having jurisdiction covering the erection, installation, maintenance or use of said signs or other installations, and  Tenant  shall maintain the said signs and other installations together with any appurtenances thereto in good order and\", doc_id='df1def90-2c7e-449b-96f1-4c8b62b44e74', embedding=None, doc_hash='b5b03c69d554cba1efa555a76d44ebc099877484f788d748b1892a9622a1de1a', extra_info={'xpath': '/docset:Rider/docset:RIDERTOLEASE-section/docset:RIDERTOLEASE/docset:FixedRent/docset:TermYearPeriod/docset:Lease/docset:_42hSmokingProhibitedTenant/docset:TenantsEmployees/docset:TheArea/docset:_44SignsAndExteriorAppearance-section/docset:_44SignsAndExteriorAppearance/docset:TheExterior/docset:TheExterior', 'id': 'omvs4mysdk6b', 'name': 'TruTone Lane 1.docx', 'structure': 'p', 'tag': 'TheExterior'}, node_info={'start': 0, 'end': 2181}, relationships={<DocumentRelationship.SOURCE: '1'>: '063cb174-4593-461a-8afe-1bec0190cecd'}), score=0.8484529479796804)\n",
      "NodeWithScore(node=Node(text=\"24. SIGNS . No signage shall be placed by  Tenant  on any portion of the  Project . However,  Tenant  shall be permitted to place a sign bearing its name in a location approved by  Landlord  near the entrance to the  Premises  (at  Tenant's cost ) and will be furnished a single listing of its name in the  Building's directory  (at  Landlord 's cost ), all in accordance with the criteria adopted  from time to time  by  Landlord  for the  Project . Any changes or additional listings in the directory shall be furnished (subject to availability of space) for the  then Building Standard charge .\", doc_id='87672346-8373-4c19-a1e3-5fe55410c561', embedding=None, doc_hash='6f90f6b2ac80947c072d4fbfcab6824f68af7b74ab3b284b6e65d30ce3ed6f4c', extra_info={'xpath': '/docset:OFFICELEASE-section/docset:OFFICELEASE/docset:THISOFFICELEASE/docset:WITNESSETH-section/docset:WITNESSETH/docset:GrossRentCreditTheRentCredit-section/docset:GrossRentCreditTheRentCredit/docset:Guaranty-section/docset:Guaranty[2]/docset:TheTransfer/docset:TheTerms/docset:Indemnification/docset:INDEMNIFICATION-section/docset:INDEMNIFICATION/docset:Waiver/docset:Waiver/docset:Signs/docset:SIGNS-section/docset:SIGNS', 'id': 'md8rieecquyv', 'name': 'Shorebucks LLC_NJ.pdf', 'structure': 'div', 'tag': 'SIGNS'}, node_info={'start': 0, 'end': 597}, relationships={<DocumentRelationship.SOURCE: '1'>: '942fd7ed-4303-4b8e-8877-b198e8bb80bb'}), score=0.8460398975408094)\n"
     ]
    }
   ],
   "source": [
    "# Try out the query engine with example query\n",
    "response = query_engine.query(\"What can tenants do with signage on their properties?\")\n",
    "print(response.response)\n",
    "for node in response.source_nodes:\n",
    "    print(node)"
   ]
  },
  {
   "attachments": {},
   "cell_type": "markdown",
   "metadata": {},
   "source": [
    "## Using Docugami to Add Metadata to Chunks for High Accuracy Document QA\n",
    "\n",
    "One issue with large documents is that the correct answer to your question may depend on chunks that are far apart in the document. Typical chunking techniques, even with overlap, will struggle with providing the LLM sufficent context to answer such questions. With upcoming very large context LLMs, it may be possible to stuff a lot of tokens, perhaps even entire documents, inside the context but this will still hit limits at some point with very long documents, or a lot of documents.\n",
    "\n",
    "For example, if we ask a more complex question that requires the LLM to draw on chunks from different parts of the document, even OpenAI's powerful LLM is unable to answer correctly."
   ]
  },
  {
   "cell_type": "code",
   "execution_count": 9,
   "metadata": {},
   "outputs": [
    {
     "name": "stdout",
     "output_type": "stream",
     "text": [
      "\n",
      "The security deposit for the property owned by Birch Street is not specified in the context information provided.\n",
      "Shorebucks LLC_CO.pdf\n",
      "1.12 Security Deposit . As of the Date of this  Lease , there is no  Security Deposit .\n",
      "Shorebucks LLC_AZ.pdf\n",
      "22. SECURITY DEPOSIT . The  Security Deposit  shall be held by  Landlord  as security for  Tenant 's full and faithful performance  of this  Lease  including the payment of  Rent .  Tenant  grants  Landlord  a security interest in the  Security Deposit . The  Security Deposit  may be commingled with other funds of  Landlord  and  Landlord  shall have no liability for payment of any interest on the  Security Deposit .  Landlord  may apply the  Security Deposit  to the extent required to cure any default by  Tenant . If  Landlord  so applies the  Security Deposit ,  Tenant  shall deliver to  Landlord  the amount necessary to replenish the  Security Deposit  to its original sum within  five  days  after notice from  Landlord . The  Security Deposit  shall not be deemed an advance payment of  Rent  or a measure of damages for any default by  Tenant , nor shall it be a defense to any action that  Landlord  may bring against  Tenant .\n",
      "Shorebucks LLC_NJ.pdf\n",
      "22. SECURITY DEPOSIT . The  Security Deposit  shall be held by  Landlord  as security for  Tenant 's full and faithful performance  of this  Lease  including the payment of  Rent .  Tenant  grants  Landlord  a security interest in the  Security Deposit . The  Security Deposit  may be commingled with other funds of  Landlord  and  Landlord  shall have no liability for payment of any interest on the  Security Deposit .  Landlord  may apply the  Security Deposit  to the extent required to cure any default by  Tenant . If  Landlord  so applies the  Security Deposit ,  Tenant  shall deliver to  Landlord  the amount necessary to replenish the  Security Deposit  to its original sum within  five  days  after notice from  Landlord . The  Security Deposit  shall not be deemed an advance payment of  Rent  or a measure of damages for any default by  Tenant , nor shall it be a defense to any action that  Landlord  may bring against  Tenant .\n",
      "Shorebucks LLC_CO.pdf\n",
      "22. SECURITY DEPOSIT . The  Security Deposit  shall be held by  Landlord  as security for  Tenant 's full and faithful performance  of this  Lease  including the payment of  Rent .  Tenant  grants  Landlord  a security interest in the  Security Deposit . The  Security Deposit  may be commingled with other funds of  Landlord  and  Landlord  shall have no liability for payment of any interest on the  Security Deposit .  Landlord  may apply the  Security Deposit  to the extent required to cure any default by  Tenant . If  Landlord  so applies the  Security Deposit ,  Tenant  shall deliver to  Landlord  the amount necessary to replenish the  Security Deposit  to its original sum within  five  days  after notice from  Landlord . The  Security Deposit  shall not be deemed an advance payment of  Rent  or a measure of damages for any default by  Tenant , nor shall it be a defense to any action that  Landlord  may bring against  Tenant .\n",
      "Shorebucks LLC_NJ.pdf\n",
      "1.12 Security Deposit . As of the Date of this  Lease , there is no  Security Deposit .\n"
     ]
    },
    {
     "name": "stderr",
     "output_type": "stream",
     "text": [
      "/usr/local/lib/python3.10/dist-packages/llama_index/data_structs/node.py:181: UserWarning: .extra_info is deprecated, use .node.extra_info instead\n",
      "  warnings.warn(\".extra_info is deprecated, use .node.extra_info instead\")\n"
     ]
    }
   ],
   "source": [
    "response = query_engine.query(\"What is the security deposit for the property owned by Birch Street?\")\n",
    "print(response.response) # the correct answer should be $78,000\n",
    "for node in response.source_nodes:\n",
    "    print(node.metadata[\"name\"])\n",
    "    print(node.node.text)"
   ]
  },
  {
   "attachments": {},
   "cell_type": "markdown",
   "metadata": {},
   "source": [
    "At first glance the answer may seem reasonable, but if you review the source chunks carefully for this answer, you will see that the chunking of the document did not end up putting the Landlord name and the rentable area in the same context, since they are far apart in the document. The query engine therefore ends up finding unrelated chunks from other documents not even related to the **Birch Street** landlord. That landlord happens to be mentioned on the first page of the file **TruTone Lane 1.docx** file, and none of the source chunks used by the query engine contain the correct answer (**$78,000**), and the answer is therefore incorrect."
   ]
  },
  {
   "attachments": {},
   "cell_type": "markdown",
   "metadata": {},
   "source": [
    "Docugami can help here. Chunks are annotated with additional metadata created using different techniques if a user has been [using Docugami](https://help.docugami.com/home/reports). More technical approaches will be added later.\n",
    "\n",
    "Specifically, let's look at the additional metadata that is returned on the documents returned by docugami after some additional use, in the form of some simple key/value pairs on all the text chunks:"
   ]
  },
  {
   "cell_type": "code",
   "execution_count": 10,
   "metadata": {},
   "outputs": [
    {
     "data": {
      "text/plain": [
       "{'xpath': '/docset:OFFICELEASEAGREEMENT-section/docset:OFFICELEASEAGREEMENT/docset:ThisOfficeLeaseAgreement',\n",
       " 'id': 'v1bvgaozfkak',\n",
       " 'name': 'TruTone Lane 2.docx',\n",
       " 'structure': 'p',\n",
       " 'tag': 'ThisOfficeLeaseAgreement',\n",
       " 'Landlord': 'BUBBA CENTER PARTNERSHIP',\n",
       " 'Tenant': 'Truetone Lane LLC'}"
      ]
     },
     "execution_count": 10,
     "metadata": {},
     "output_type": "execute_result"
    }
   ],
   "source": [
    "docset_id=\"wh2kned25uqm\"\n",
    "documents = loader.load_data(docset_id=docset_id)\n",
    "documents[0].metadata"
   ]
  },
  {
   "cell_type": "code",
   "execution_count": 11,
   "metadata": {},
   "outputs": [],
   "source": [
    "index = GPTVectorStoreIndex.from_documents(documents)\n",
    "query_engine = index.as_query_engine(similarity_top_k=5)"
   ]
  },
  {
   "attachments": {},
   "cell_type": "markdown",
   "metadata": {},
   "source": [
    "Let's run the same question again. It returns the correct result since all the chunks have metadata key/value pairs on them carrying key information about the document even if this infromation is physically very far away from the source chunk used to generate the answer."
   ]
  },
  {
   "cell_type": "code",
   "execution_count": 12,
   "metadata": {},
   "outputs": [
    {
     "name": "stdout",
     "output_type": "stream",
     "text": [
      "\n",
      "The security deposit for the property owned by Birch Street is $78,000.\n",
      "TruTone Lane 1.docx\n",
      "NodeWithScore(node=Node(text='$ 20,023.78  of the  Security  to the  Tenant  and the  Security obligation  shall be  $ 31,976.72  and remain until the expiration or earlier termination of this  Lease .', doc_id='d34995dc-cbe2-4f70-a248-ca0e8c937d7b', embedding=None, doc_hash='84ec2102e9e9cc07487556772b8f97aa14e01d6f763ba1315e0ae2132d67691c', extra_info={'xpath': '/docset:Rider/docset:RIDERTOLEASE-section/docset:RIDERTOLEASE/docset:FixedRent/docset:TermYearPeriod/docset:Lease/docset:_42hSmokingProhibitedTenant/docset:TenantsEmployees/docset:TheArea/docset:_56SecurityDeposit-section/docset:_56SecurityDeposit/docset:TheForegoing/docset:TheSecurity', 'id': 'omvs4mysdk6b', 'name': 'TruTone Lane 1.docx', 'structure': 'p', 'tag': 'TheSecurity', 'Landlord': 'BIRCH STREET ,  LLC', 'Tenant': 'Trutone Lane LLC'}, node_info={'start': 0, 'end': 171}, relationships={<DocumentRelationship.SOURCE: '1'>: '659e354f-b749-4938-967f-638fea177fa0'}), score=0.8289222268861388)\n",
      "TruTone Lane 1.docx\n",
      "NodeWithScore(node=Node(text='The  Security  being held pursuant to this Article shall at all times be an amount equal to \\n\\n\\n\\n\\n\\n  three ( 3 )  times the monthly fixed rent then reserved under  Article  40  of this  Lease . On the first day of the month following each anniversary of the  Rent Commencement Date  of this  Lease ,  Tenant  shall pay to  Landlord  funds  sufficient so that the  un-applied Security  held by  Landlord  shall at all times equal  three  times the  monthly fixed rent  then reserved under  Article  40  of this  Lease .', doc_id='f0d27e80-90b8-4436-85eb-f0deaa485b77', embedding=None, doc_hash='a0fcdc9cd2dc6dc9f9f97423f8d76494af80b500c5c7bdbefc2c05aea9085d89', extra_info={'xpath': '/docset:Rider/docset:RIDERTOLEASE-section/docset:RIDERTOLEASE/docset:FixedRent/docset:TermYearPeriod/docset:Lease/docset:_42hSmokingProhibitedTenant/docset:TenantsEmployees/docset:TheArea/docset:_56SecurityDeposit-section/docset:_56SecurityDeposit/docset:TheEvent/docset:TheSecurity', 'id': 'omvs4mysdk6b', 'name': 'TruTone Lane 1.docx', 'structure': 'p', 'tag': 'TheSecurity', 'Landlord': 'BIRCH STREET ,  LLC', 'Tenant': 'Trutone Lane LLC'}, node_info={'start': 0, 'end': 517}, relationships={<DocumentRelationship.SOURCE: '1'>: 'a97b9f2a-2e01-4d65-bfd3-89aa18fca942'}), score=0.8227364343224219)\n",
      "TruTone Lane 1.docx\n",
      "NodeWithScore(node=Node(text=\"56 .  Security Deposit Upon execution of this  Lease ,  Tenant  has deposited with  Landlord  the sum of  $ 78,000.00  in good funds as security for the full and faithful performance and observance by  Tenant  of the terms, covenants and conditions of this  Lease  (the “Security”). If  Tenant  defaults in the performance or observance of any term, covenant or condition of this  Lease , including without limitation the obligation of  Tenant  to pay any rent or other sum required hereunder,  Landlord  may use, after  10  days  written notice  to  Tenant  ,apply, or retain, without any application to any court or tribunal, the whole or any part of the  Security  so deposited to the extent required for the payment of any rent or any other sum as to which  Tenant  is in default or for any sum which  Landlord  may expend or may be required to expend by reason of  Tenant 's default , including without limitation any damages or deficiency accrued before or after summary proceedings or other re-entry by  Landlord . Such use, application, or retention by the  Landlord  shall be without prejudice to  Landlord ’s rights  to seek any and all additional rent and/or damages that may have accrued. If  Tenant  shall fully and faithfully observe and perform all of the terms, covenants, and conditions of this  Lease , the  Security , shall be returned to  Tenant  after the end of the term of this  Lease  or at permissible early termination as provided herein and the delivery of possession of the demised Premises to  Landlord .\", doc_id='5456d727-13b5-4197-9070-b6acad549f58', embedding=None, doc_hash='3ae3541e4750e005e58bd6a9c8379f548309eadc5559b6fd9d0636fea6909fc0', extra_info={'xpath': '/docset:Rider/docset:RIDERTOLEASE-section/docset:RIDERTOLEASE/docset:FixedRent/docset:TermYearPeriod/docset:Lease/docset:_42hSmokingProhibitedTenant/docset:TenantsEmployees/docset:TheArea/docset:_56SecurityDeposit-section/docset:_56SecurityDeposit/docset:Execution', 'id': 'omvs4mysdk6b', 'name': 'TruTone Lane 1.docx', 'structure': 'p', 'tag': 'Execution', 'Landlord': 'BIRCH STREET ,  LLC', 'Tenant': 'Trutone Lane LLC'}, node_info={'start': 0, 'end': 1533}, relationships={<DocumentRelationship.SOURCE: '1'>: '9a9d71ca-c0a3-4ab4-ab58-cf5cd611a53c'}), score=0.8225535679622072)\n",
      "Shorebucks LLC_CO.pdf\n",
      "NodeWithScore(node=Node(text='1.12 Security Deposit . As of the Date of this  Lease , there is no  Security Deposit .', doc_id='418f110b-c0fd-4813-9649-2003a0c47504', embedding=None, doc_hash='6344b5840d282172b1bcb82b4e29a74e524b011c1f73dfd26d5563dfc796193b', extra_info={'xpath': '/docset:OFFICELEASE-section/docset:OFFICELEASE/docset:THISOFFICELEASE/docset:WITNESSETH-section/docset:WITNESSETH/docset:GrossRentCreditTheRentCredit-section/docset:GrossRentCreditTheRentCredit/docset:First/docset:ApplicableSalesTax/docset:PercentageRent/docset:SecurityDeposit/docset:SecurityDeposit-section/docset:SecurityDeposit[2]', 'id': 'dsyfhh4vpeyf', 'name': 'Shorebucks LLC_CO.pdf', 'structure': 'div', 'tag': 'SecurityDeposit', 'Landlord': 'Perry  &  Blair LLC', 'Tenant': 'Shorebucks LLC'}, node_info={'start': 0, 'end': 87}, relationships={<DocumentRelationship.SOURCE: '1'>: '04ab648a-18d9-473f-83cc-ea0a872a1049'}), score=0.8222174185648468)\n",
      "TruTone Lane 1.docx\n",
      "NodeWithScore(node=Node(text='Notwithstanding the foregoing, provided  Tenant  is not then in default of this  Lease , on  March  15 ,  2022 ,  Landlord  shall return  $ 26,000  of the  Security  to the  Tenant  and the  Security obligation  shall be  $ 52,000 . In the event  Tenant  continues to comply with all of the terms and conditions of this  Lease , and provided  Tenant  is not then in default of this  Lease , on  March  15 ,  2022 ,  Landlord  shall return', doc_id='738bf4d8-cf83-43da-9083-49434954f8f3', embedding=None, doc_hash='20e4e9257ce3e8a2072eb0d4973160af6362a290c0e4fac16be6195356f97898', extra_info={'xpath': '/docset:Rider/docset:RIDERTOLEASE-section/docset:RIDERTOLEASE/docset:FixedRent/docset:TermYearPeriod/docset:Lease/docset:_42hSmokingProhibitedTenant/docset:TenantsEmployees/docset:TheArea/docset:_56SecurityDeposit-section/docset:_56SecurityDeposit/docset:TheForegoing/docset:TheForegoing', 'id': 'omvs4mysdk6b', 'name': 'TruTone Lane 1.docx', 'structure': 'p', 'tag': 'TheForegoing', 'Landlord': 'BIRCH STREET ,  LLC', 'Tenant': 'Trutone Lane LLC'}, node_info={'start': 0, 'end': 438}, relationships={<DocumentRelationship.SOURCE: '1'>: '7248de1e-0140-4e59-b324-ee5df7065ceb'}), score=0.8159128793979528)\n"
     ]
    }
   ],
   "source": [
    "response = query_engine.query(\"What is the security deposit for the property owned by Birch Street?\")\n",
    "print(response.response) # the correct answer should be $78,000\n",
    "for node in response.source_nodes:\n",
    "    print(node.metadata[\"name\"])\n",
    "    print(node)"
   ]
  }
 ],
 "metadata": {
  "kernelspec": {
   "display_name": "Python 3 (ipykernel)",
   "language": "python",
   "name": "python3"
  },
  "language_info": {
   "codemirror_mode": {
    "name": "ipython",
    "version": 3
   },
   "file_extension": ".py",
   "mimetype": "text/x-python",
   "name": "python",
   "nbconvert_exporter": "python",
   "pygments_lexer": "ipython3",
   "version": "3.10.8"
  }
 },
 "nbformat": 4,
 "nbformat_minor": 4
}
