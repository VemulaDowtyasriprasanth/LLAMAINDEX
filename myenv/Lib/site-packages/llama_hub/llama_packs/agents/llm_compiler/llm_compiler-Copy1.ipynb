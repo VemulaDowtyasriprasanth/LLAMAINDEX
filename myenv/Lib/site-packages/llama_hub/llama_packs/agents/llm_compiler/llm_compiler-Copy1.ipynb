{
 "cells": [
  {
   "cell_type": "markdown",
   "id": "f2cf3ee9-d4dd-44d1-a529-6e92d9f8e023",
   "metadata": {},
   "source": [
    "# LLM Compiler Agent Cookbook\n",
    "\n",
    "<a href=\"https://colab.research.google.com/github/run-llama/llama-hub/blob/main/llama_hub/llama_packs/agents/llm_compiler/llm_compiler.ipynb\" target=\"_parent\"><img src=\"https://colab.research.google.com/assets/colab-badge.svg\" alt=\"Open In Colab\"/></a>\n",
    "\n",
    "**NOTE**: Full credits to the [source repo for LLMCompiler](https://github.com/SqueezeAILab/LLMCompiler). A lot of our implementation was lifted from this repo (and adapted with LlamaIndex modules).\n",
    "\n",
    "In this cookbook, we show how to use our LLMCompiler agent implementation for various settings. This includes using some simple function tools to do math, but also to answer multi-part queries for more advanced RAG use cases over multiple documents.\n",
    "\n",
    "We see that the LLMCompilerAgent is capable of parallel function calling, giving results much more quickly than sequential execution through ReAct.\n"
   ]
  },
  {
   "cell_type": "code",
   "execution_count": 1,
   "id": "6f6b9616-fbd3-4686-9ce3-2893bdfad2e7",
   "metadata": {},
   "outputs": [
    {
     "name": "stderr",
     "output_type": "stream",
     "text": [
      "/Users/jerryliu/Programming/llama-hub/.venv/lib/python3.10/site-packages/tqdm/auto.py:21: TqdmWarning: IProgress not found. Please update jupyter and ipywidgets. See https://ipywidgets.readthedocs.io/en/stable/user_install.html\n",
      "  from .autonotebook import tqdm as notebook_tqdm\n"
     ]
    },
    {
     "name": "stdout",
     "output_type": "stream",
     "text": [
      "🌍 To view the Phoenix app in your browser, visit http://127.0.0.1:6006/\n",
      "📺 To view the Phoenix app in a notebook, run `px.active_session().view()`\n",
      "📖 For more information on how to use Phoenix, check out https://docs.arize.com/phoenix\n"
     ]
    }
   ],
   "source": [
    "# Phoenix can display in real time the traces automatically\n",
    "# collected from your LlamaIndex application.\n",
    "import phoenix as px\n",
    "\n",
    "# Look for a URL in the output to open the App in a browser.\n",
    "px.launch_app()\n",
    "# The App is initially empty, but as you proceed with the steps below,\n",
    "# traces will appear automatically as your LlamaIndex application runs.\n",
    "\n",
    "import llama_index\n",
    "\n",
    "llama_index.set_global_handler(\"arize_phoenix\")\n",
    "\n",
    "# Run all of your LlamaIndex applications as usual and traces\n",
    "# will be collected and displayed in Phoenix."
   ]
  },
  {
   "cell_type": "code",
   "execution_count": 2,
   "id": "338345d0-0b03-44f0-b812-d98b530d047b",
   "metadata": {},
   "outputs": [],
   "source": [
    "import nest_asyncio\n",
    "\n",
    "nest_asyncio.apply()"
   ]
  },
  {
   "cell_type": "markdown",
   "id": "93038a05-9e15-46a8-9b17-56fd1bf5f4c6",
   "metadata": {},
   "source": [
    "### Download Llama Pack\n",
    "\n",
    "Here we download the Llama Pack.\n",
    "\n",
    "**NOTE**: This only works if `skip_load=True`, because we are loading an entire directory of files instead of just a single file.\n",
    "\n",
    "Instead of directly using the pack though, we will show how to directly import some of the underlying modules to build your custom agents."
   ]
  },
  {
   "cell_type": "code",
   "execution_count": 3,
   "id": "653fd259-499a-4705-aff6-16890e3f5373",
   "metadata": {},
   "outputs": [],
   "source": [
    "# Option: if developing with the llama_hub package\n",
    "# from llama_hub.llama_packs.agents.llm_compiler.step import LLMCompilerAgentWorker\n",
    "\n",
    "# Option: download_llama_pack\n",
    "from llama_index.llama_pack import download_llama_pack\n",
    "\n",
    "download_llama_pack(\n",
    "    \"LLMCompilerAgentPack\",\n",
    "    \"./agent_pack\",\n",
    "    skip_load=True,\n",
    "    # leave the below line commented out if using the notebook on main\n",
    "    # llama_hub_url=\"https://raw.githubusercontent.com/run-llama/llama-hub/jerry/add_llm_compiler_pack/llama_hub\"\n",
    ")\n",
    "from agent_pack.step import LLMCompilerAgentWorker"
   ]
  },
  {
   "cell_type": "markdown",
   "id": "b82925e9-0c6b-4e1a-82f7-5d238cfd4bc6",
   "metadata": {},
   "source": [
    "## Test LLMCompiler Agent with Simple Functions\n",
    "\n",
    "Here we test the LLMCompilerAgent with simple math functions (add, multiply) to illustrate how it works."
   ]
  },
  {
   "cell_type": "code",
   "execution_count": 5,
   "id": "e6fdf3ad-0ded-4165-bdc6-870f91dc723d",
   "metadata": {},
   "outputs": [],
   "source": [
    "import json\n",
    "from typing import Sequence, List\n",
    "\n",
    "from llama_index.llms import OpenAI, ChatMessage\n",
    "from llama_index.tools import BaseTool, FunctionTool\n",
    "\n",
    "import nest_asyncio\n",
    "\n",
    "nest_asyncio.apply()"
   ]
  },
  {
   "cell_type": "markdown",
   "id": "cc38b021-97c8-4d00-8781-91ce081547c0",
   "metadata": {},
   "source": [
    "### Define Functions"
   ]
  },
  {
   "cell_type": "code",
   "execution_count": 6,
   "id": "c13da398-bd9e-4f2e-82d2-2dbb62a3ac52",
   "metadata": {},
   "outputs": [],
   "source": [
    "def multiply(a: int, b: int) -> int:\n",
    "    \"\"\"Multiple two integers and returns the result integer\"\"\"\n",
    "    return a * b\n",
    "\n",
    "\n",
    "multiply_tool = FunctionTool.from_defaults(fn=multiply)\n",
    "\n",
    "\n",
    "def add(a: int, b: int) -> int:\n",
    "    \"\"\"Add two integers and returns the result integer\"\"\"\n",
    "    return a + b\n",
    "\n",
    "\n",
    "add_tool = FunctionTool.from_defaults(fn=add)\n",
    "\n",
    "tools = [multiply_tool, add_tool]"
   ]
  },
  {
   "cell_type": "code",
   "execution_count": 7,
   "id": "9a77611c-5df1-488e-8856-6bc5cdb4249e",
   "metadata": {},
   "outputs": [
    {
     "data": {
      "text/plain": [
       "\"{'title': 'multiply', 'type': 'object', 'properties': {'a': {'title': 'A', 'type': 'integer'}, 'b': {'title': 'B', 'type': 'integer'}}, 'required': ['a', 'b']}\""
      ]
     },
     "execution_count": 7,
     "metadata": {},
     "output_type": "execute_result"
    }
   ],
   "source": [
    "multiply_tool.metadata.fn_schema_str"
   ]
  },
  {
   "cell_type": "markdown",
   "id": "b9ce60c7-9625-42a2-87d6-a8fe7854a4ca",
   "metadata": {},
   "source": [
    "### Setup LLMCompiler Agent\n",
    "\n",
    "We import the `LLMCompilerAgentWorker` and combine it with the `AgentRunner`."
   ]
  },
  {
   "cell_type": "code",
   "execution_count": 9,
   "id": "faf87b3e-a027-4da2-a402-a704cd03a728",
   "metadata": {},
   "outputs": [],
   "source": [
    "from llama_index.agent import AgentRunner"
   ]
  },
  {
   "cell_type": "code",
   "execution_count": 10,
   "id": "35b3fa8a-647f-4268-aac2-4816fcfbdecc",
   "metadata": {},
   "outputs": [],
   "source": [
    "llm = OpenAI(model=\"gpt-4\")"
   ]
  },
  {
   "cell_type": "code",
   "execution_count": 11,
   "id": "413a6043-4824-4a12-9de7-fbfe15c4e541",
   "metadata": {},
   "outputs": [],
   "source": [
    "callback_manager = llm.callback_manager"
   ]
  },
  {
   "cell_type": "code",
   "execution_count": 12,
   "id": "1c14e9bb-b401-414e-916e-4c575b26b5e9",
   "metadata": {},
   "outputs": [],
   "source": [
    "agent_worker = LLMCompilerAgentWorker.from_tools(\n",
    "    tools, llm=llm, verbose=True, callback_manager=callback_manager\n",
    ")\n",
    "agent = AgentRunner(agent_worker, callback_manager=callback_manager)"
   ]
  },
  {
   "cell_type": "markdown",
   "id": "c7f2da7b-e611-4441-ab0e-22b8748ec658",
   "metadata": {},
   "source": [
    "### Test out some Queries"
   ]
  },
  {
   "cell_type": "code",
   "execution_count": 13,
   "id": "a0980a07-d2f5-434a-b9e9-80deabc0d1a9",
   "metadata": {},
   "outputs": [
    {
     "name": "stdout",
     "output_type": "stream",
     "text": [
      "> Running step 7fbd5304-8f67-46f6-882d-9c15ace75d80 for task dbbb4991-5347-4302-a358-6fe5d0705bdc.\n",
      "> Step count: 0\n",
      "\u001b[1;3;38;5;200m> Plan: 1. multiply(121, 3)\n",
      "2. add($1, 42)\n",
      "3. join()<END_OF_PLAN>\n",
      "\u001b[0m\u001b[1;3;34mRan task: multiply. Observation: 363\n",
      "\u001b[0m\u001b[1;3;34mRan task: add. Observation: 405\n",
      "\u001b[0m\u001b[1;3;34mRan task: join. Observation: None\n",
      "\u001b[0m\u001b[1;3;38;5;200m> Thought: The result of the operation is 405.\n",
      "\u001b[0m\u001b[1;3;38;5;200m> Answer: 405\n",
      "\u001b[0m"
     ]
    }
   ],
   "source": [
    "response = agent.chat(\"What is (121 * 3) + 42?\")"
   ]
  },
  {
   "cell_type": "code",
   "execution_count": 14,
   "id": "6ebe5e1f-4929-4f47-9af2-1da8faebe638",
   "metadata": {},
   "outputs": [
    {
     "data": {
      "text/plain": [
       "AgentChatResponse(response='405', sources=[], source_nodes=[])"
      ]
     },
     "execution_count": 14,
     "metadata": {},
     "output_type": "execute_result"
    }
   ],
   "source": [
    "response"
   ]
  },
  {
   "cell_type": "code",
   "execution_count": 15,
   "id": "a3dfd5c4-633c-4729-a337-a4fcf13d8a76",
   "metadata": {},
   "outputs": [
    {
     "data": {
      "text/plain": [
       "[ChatMessage(role=<MessageRole.USER: 'user'>, content='What is (121 * 3) + 42?', additional_kwargs={}),\n",
       " ChatMessage(role=<MessageRole.ASSISTANT: 'assistant'>, content='405', additional_kwargs={})]"
      ]
     },
     "execution_count": 15,
     "metadata": {},
     "output_type": "execute_result"
    }
   ],
   "source": [
    "agent.memory.get_all()"
   ]
  },
  {
   "cell_type": "markdown",
   "id": "c1e836cb-f481-4033-afca-211a52ef0665",
   "metadata": {},
   "source": [
    "## Try out LLMCompiler for RAG\n",
    "\n",
    "Now let's try out the LLMCompiler for RAG use cases. Specifically, we load a dataset of Wikipedia articles about various cities and ask questions over them."
   ]
  },
  {
   "cell_type": "markdown",
   "id": "975c5d36-6d80-4004-a565-15351b7ac702",
   "metadata": {},
   "source": [
    "### Setup Data\n",
    "\n",
    "We use our `WikipediaReader` to load data for various cities."
   ]
  },
  {
   "cell_type": "code",
   "execution_count": 4,
   "id": "a50dccdc-491e-4ff2-8657-5dfea6fab284",
   "metadata": {},
   "outputs": [],
   "source": [
    "from llama_index.readers import WikipediaReader"
   ]
  },
  {
   "cell_type": "code",
   "execution_count": 5,
   "id": "2647c3be-1637-4b88-ae76-bb513f7e9682",
   "metadata": {},
   "outputs": [],
   "source": [
    "wiki_titles = [\n",
    "    \"Toronto\",\n",
    "    \"Seattle\",\n",
    "    \"Chicago\",\n",
    "    \"Boston\",\n",
    "    \"Houston\",\n",
    "]"
   ]
  },
  {
   "cell_type": "code",
   "execution_count": 6,
   "id": "8eeb7add-aa6c-4f47-8d8c-6a6d222adc55",
   "metadata": {},
   "outputs": [],
   "source": [
    "city_docs = {}\n",
    "reader = WikipediaReader()\n",
    "for wiki_title in wiki_titles:\n",
    "    docs = reader.load_data(pages=[wiki_title])\n",
    "    city_docs[wiki_title] = docs"
   ]
  },
  {
   "cell_type": "code",
   "execution_count": 22,
   "id": "4b49934a-1475-4b78-a14a-ab3a4430fecd",
   "metadata": {},
   "outputs": [
    {
     "data": {
      "text/plain": [
       "1"
      ]
     },
     "execution_count": 22,
     "metadata": {},
     "output_type": "execute_result"
    }
   ],
   "source": [
    "len(reader.load_data(pages=[\"Houston\"]))"
   ]
  },
  {
   "cell_type": "markdown",
   "id": "4af02a14-0d58-4570-93c5-78e1c87c8c72",
   "metadata": {},
   "source": [
    "### Setup LLM + Service Context"
   ]
  },
  {
   "cell_type": "code",
   "execution_count": 7,
   "id": "6425ad0e-2f8e-4101-8730-387f4aab8bfa",
   "metadata": {},
   "outputs": [],
   "source": [
    "from llama_index import ServiceContext\n",
    "from llama_index.llms import OpenAI\n",
    "from llama_index.callbacks import CallbackManager\n",
    "\n",
    "llm = OpenAI(temperature=0, model=\"gpt-4\")\n",
    "service_context = ServiceContext.from_defaults(llm=llm)\n",
    "callback_manager = CallbackManager([])"
   ]
  },
  {
   "cell_type": "markdown",
   "id": "c3a52155-1790-44e6-b6be-14964b0b25f1",
   "metadata": {},
   "source": [
    "### Define Toolset"
   ]
  },
  {
   "cell_type": "code",
   "execution_count": 8,
   "id": "91324b15-9f98-4f52-a832-2eadc76b73c9",
   "metadata": {},
   "outputs": [],
   "source": [
    "from llama_index import load_index_from_storage, StorageContext\n",
    "from llama_index.node_parser import SentenceSplitter\n",
    "from llama_index.tools import QueryEngineTool, ToolMetadata\n",
    "from llama_index import VectorStoreIndex\n",
    "import os\n",
    "\n",
    "node_parser = SentenceSplitter()\n",
    "\n",
    "# Build agents dictionary\n",
    "query_engine_tools = []\n",
    "\n",
    "for idx, wiki_title in enumerate(wiki_titles):\n",
    "    nodes = node_parser.get_nodes_from_documents(city_docs[wiki_title])\n",
    "\n",
    "    if not os.path.exists(f\"./data/{wiki_title}\"):\n",
    "        # build vector index\n",
    "        vector_index = VectorStoreIndex(\n",
    "            nodes, service_context=service_context, callback_manager=callback_manager\n",
    "        )\n",
    "        vector_index.storage_context.persist(persist_dir=f\"./data/{wiki_title}\")\n",
    "    else:\n",
    "        vector_index = load_index_from_storage(\n",
    "            StorageContext.from_defaults(persist_dir=f\"./data/{wiki_title}\"),\n",
    "            service_context=service_context,\n",
    "            callback_manager=callback_manager,\n",
    "        )\n",
    "    # define query engines\n",
    "    vector_query_engine = vector_index.as_query_engine()\n",
    "\n",
    "    # define tools\n",
    "    query_engine_tools.append(\n",
    "        QueryEngineTool(\n",
    "            query_engine=vector_query_engine,\n",
    "            metadata=ToolMetadata(\n",
    "                name=f\"vector_tool_{wiki_title}\",\n",
    "                description=(\n",
    "                    \"Useful for questions related to specific aspects of\"\n",
    "                    f\" {wiki_title} (e.g. the history, arts and culture,\"\n",
    "                    \" sports, demographics, or more).\"\n",
    "                ),\n",
    "            ),\n",
    "        )\n",
    "    )"
   ]
  },
  {
   "cell_type": "markdown",
   "id": "29750eb8-b117-4777-b228-32e8becf662c",
   "metadata": {},
   "source": [
    "### Setup LLMCompilerAgent"
   ]
  },
  {
   "cell_type": "code",
   "execution_count": 9,
   "id": "dde0c37b-5660-43a0-a22f-78d4521204a8",
   "metadata": {},
   "outputs": [],
   "source": [
    "from llama_index.agent import AgentRunner\n",
    "from llama_index.llms import OpenAI\n",
    "\n",
    "llm = OpenAI(model=\"gpt-4\")\n",
    "agent_worker = LLMCompilerAgentWorker.from_tools(\n",
    "    query_engine_tools,\n",
    "    llm=llm,\n",
    "    verbose=True,\n",
    "    callback_manager=callback_manager,\n",
    ")\n",
    "agent = AgentRunner(agent_worker, callback_manager=callback_manager)"
   ]
  },
  {
   "cell_type": "code",
   "execution_count": 13,
   "id": "af728fba-2792-439f-b441-f0ebaddc4691",
   "metadata": {},
   "outputs": [
    {
     "data": {
      "text/plain": [
       "ToolOutput(content=\"As of 2020, Boston had an estimated population of 691,531 residents living in 266,724 households, marking a 12% increase from 2010. It is the third-most densely populated large U.S. city with over half a million residents and the most densely populated state capital. The population distribution is as follows: 21.9% are 19 and under, 14.3% are from 20 to 24, 33.2% are from 25 to 44, 20.4% are from 45 to 64, and 10.1% are 65 years or older. The median age is 30.8 years. For every 100 females, there are 92.0 males, and for every 100 females age 18 and over, there are 89.9 males. The median household income is $51,739, and the median income for a family is $61,035. The per capita income is $33,158. 21.4% of the population and 16.0% of families are below the poverty line. The city has a significant racial wealth gap, with White Bostonians having a median net worth of $247,500 compared to $8 for non-immigrant Black residents and $0 for Dominican immigrant residents. The city's ethnic composition includes 22% African-Americans, 15.8% of Irish descent, 8.3% Italians, and over 15% of West Indian and Caribbean ancestry.\", tool_name='vector_tool_Houston', raw_input={'input': 'demographics'}, raw_output=Response(response=\"As of 2020, Boston had an estimated population of 691,531 residents living in 266,724 households, marking a 12% increase from 2010. It is the third-most densely populated large U.S. city with over half a million residents and the most densely populated state capital. The population distribution is as follows: 21.9% are 19 and under, 14.3% are from 20 to 24, 33.2% are from 25 to 44, 20.4% are from 45 to 64, and 10.1% are 65 years or older. The median age is 30.8 years. For every 100 females, there are 92.0 males, and for every 100 females age 18 and over, there are 89.9 males. The median household income is $51,739, and the median income for a family is $61,035. The per capita income is $33,158. 21.4% of the population and 16.0% of families are below the poverty line. The city has a significant racial wealth gap, with White Bostonians having a median net worth of $247,500 compared to $8 for non-immigrant Black residents and $0 for Dominican immigrant residents. The city's ethnic composition includes 22% African-Americans, 15.8% of Irish descent, 8.3% Italians, and over 15% of West Indian and Caribbean ancestry.\", source_nodes=[NodeWithScore(node=TextNode(id_='1cd9ef53-f7b9-4a72-a6dc-586e99b3150d', embedding=None, metadata={}, excluded_embed_metadata_keys=[], excluded_llm_metadata_keys=[], relationships={<NodeRelationship.SOURCE: '1'>: RelatedNodeInfo(node_id='b7406038-e187-4ab2-852b-422a6cafbaf5', node_type=<ObjectType.DOCUMENT: '4'>, metadata={}, hash='fb692198d3ccd82073c7de83a85e36f75c77acda999795902a28e1ad342cf1c4'), <NodeRelationship.PREVIOUS: '2'>: RelatedNodeInfo(node_id='0f24aa11-ca55-4a9b-a321-95da639eb1ef', node_type=<ObjectType.TEXT: '1'>, metadata={}, hash='74b7746f2391fb0a27fa86f51e25a50b279c88b44c4ce6a3ee7e136cede81bb8'), <NodeRelationship.NEXT: '3'>: RelatedNodeInfo(node_id='2c636145-ac04-4853-bcf4-290f4431f173', node_type=<ObjectType.TEXT: '1'>, metadata={}, hash='a5c9eb4e50dca12ef8423cbdfcea156013daa1791560f4961d4d4f1e90516b70')}, hash='7b809ad6fce81bf0205a13efbaed0672820d837b47a00b6df0ae4e9858d24929', text=\"=== Cityscapes ===\\n\\n\\n== Demographics ==\\n\\nIn 2020, Boston was estimated to have 691,531 residents living in 266,724 households—a 12% population increase over 2010. The city is the third-most densely populated large U.S. city of over half a million residents, and the most densely populated state capital. Some 1.2 million persons may be within Boston's boundaries during work hours, and as many as 2 million during special events. This fluctuation of people is caused by hundreds of thousands of suburban residents who travel to the city for work, education, health care, and special events.In the city, the population was spread out, with 21.9% at age 19 and under, 14.3% from 20 to 24, 33.2% from 25 to 44, 20.4% from 45 to 64, and 10.1% who were 65 years of age or older. The median age was 30.8 years. For every 100 females, there were 92.0 males. For every 100 females age 18 and over, there were 89.9 males. There were 252,699 households, of which 20.4% had children under the age of 18 living in them, 25.5% were married couples living together, 16.3% had a female householder with no husband present, and 54.0% were non-families. 37.1% of all households were made up of individuals, and 9.0% had someone living alone who was 65 years of age or older. The average household size was 2.26 and the average family size was 3.08.The median household income in Boston was $51,739, while the median income for a family was $61,035. Full-time year-round male workers had a median income of $52,544 versus $46,540 for full-time year-round female workers. The per capita income for the city was $33,158. 21.4% of the population and 16.0% of families were below the poverty line. Of the total population, 28.8% of those under the age of 18 and 20.4% of those 65 and older were living below the poverty line. Boston has a significant racial wealth gap with White Bostonians having an median net worth of $247,500 compared to an $8 median net worth for non-immigrant Black residents and $0 for Dominican immigrant residents.From the 1950s to the end of the 20th century, the proportion of non-Hispanic Whites in the city declined. In 2000, non-Hispanic Whites made up 49.5% of the city's population, making the city majority minority for the first time. However, in the 21st century, the city has experienced significant gentrification, during which affluent Whites have moved into formerly non-White areas. In 2006, the U.S. Census Bureau estimated non-Hispanic Whites again formed a slight majority but as of 2010, in part due to the housing crash, as well as increased efforts to make more affordable housing more available, the non-White population has rebounded. This may also have to do with increased Latin American and Asian populations and more clarity surrounding U.S. Census statistics, which indicate a non-Hispanic White population of 47% (some reports give slightly lower figures).\", start_char_idx=24431, end_char_idx=27320, text_template='{metadata_str}\\n\\n{content}', metadata_template='{key}: {value}', metadata_seperator='\\n'), score=0.8134826614370985), NodeWithScore(node=TextNode(id_='2c636145-ac04-4853-bcf4-290f4431f173', embedding=None, metadata={}, excluded_embed_metadata_keys=[], excluded_llm_metadata_keys=[], relationships={<NodeRelationship.SOURCE: '1'>: RelatedNodeInfo(node_id='b7406038-e187-4ab2-852b-422a6cafbaf5', node_type=<ObjectType.DOCUMENT: '4'>, metadata={}, hash='fb692198d3ccd82073c7de83a85e36f75c77acda999795902a28e1ad342cf1c4'), <NodeRelationship.PREVIOUS: '2'>: RelatedNodeInfo(node_id='1cd9ef53-f7b9-4a72-a6dc-586e99b3150d', node_type=<ObjectType.TEXT: '1'>, metadata={}, hash='7b809ad6fce81bf0205a13efbaed0672820d837b47a00b6df0ae4e9858d24929'), <NodeRelationship.NEXT: '3'>: RelatedNodeInfo(node_id='f1617774-b90a-4f9c-9cd7-e85d9f423d66', node_type=<ObjectType.TEXT: '1'>, metadata={}, hash='f76387df21f053afe785a9bb2093e0953d4b8ad53481760b88dda9359e76dfd3')}, hash='a5c9eb4e50dca12ef8423cbdfcea156013daa1791560f4961d4d4f1e90516b70', text=\"=== Ethnicity ===\\nAfrican-Americans comprise 22% of the city's population. People of Irish descent form the second-largest single ethnic group in the city, making up 15.8% of the population, followed by Italians, accounting for 8.3% of the population. People of West Indian and Caribbean ancestry are another sizable group, collectively at over 15%. Boston has the second-biggest congestion of Irish Americans in the United States, trailing Butte, Montana.\\nIn Greater Boston, these numbers grew significantly, with 150,000 Dominicans according to 2018 estimates, 134,000 Puerto Ricans, 57,500 Salvadorans, 39,000 Guatemalans, 36,000 Mexicans, and over 35,000 Colombians. East Boston has a diverse Hispanic/Latino population of Salvadorans, Colombians, Guatemalans, Mexicans, Dominicans, Puerto Ricans, and even Portuguese-speaking people from Portugal and Brazil. Hispanic populations in southwest Boston neighborhoods are mainly made up of Dominicans and Puerto Ricans, usually sharing neighborhoods in this section with African Americans and Blacks with origins from the Caribbean and Africa especially Cape Verdeans and Haitians. Neighborhoods such as Jamaica Plain and Roslindale have experienced a growing number of Dominican Americans.There is a large and historical Armenian community in Boston, and the city is home to the Armenian Heritage Park. Additionally, over 27,000 Chinese Americans made their home in Boston city proper in 2013. Overall, according to the 2012–2016 American Community Survey 5-Year Estimates, the largest ancestry groups in Boston are:\\n\\n\\n=== Demographic breakdown by ZIP Code ===\\n\\n\\n==== Income ====\\n\\nData is from the 2008–2012 American Community Survey 5-Year Estimates.\\n\\n\\n=== Religion ===\\nAccording to a 2014 study by the Pew Research Center, 57% of the population of the city identified themselves as Christians, with 25% attending a variety of Protestant churches and 29% professing Roman Catholic beliefs; 33% claim no religious affiliation, while the remaining 10% are composed of adherents of Judaism, Buddhism, Islam, Hinduism, Baháʼí and other faiths.\\nAs of 2010, the Catholic Church had the highest number of adherents as a single denomination in the Greater Boston area, with more than two million members and 339 churches, followed by the Episcopal Church with 58,000 adherents in 160 churches. The United Church of Christ had 55,000 members and 213 churches.The city has a Jewish population of an estimated 248,000 Jews within the Boston metro area. More than half of Jewish households in the Greater Boston area reside in the city itself, Brookline, Newton, Cambridge, Somerville, or adjacent towns.A small minority practices Confucianism, and some practice Boston Confucianism, an American evolution of Confucianism adapted for Boston intellectuals.\", start_char_idx=27323, end_char_idx=30119, text_template='{metadata_str}\\n\\n{content}', metadata_template='{key}: {value}', metadata_seperator='\\n'), score=0.7964499666958077)], metadata={'1cd9ef53-f7b9-4a72-a6dc-586e99b3150d': {}, '2c636145-ac04-4853-bcf4-290f4431f173': {}}))"
      ]
     },
     "execution_count": 13,
     "metadata": {},
     "output_type": "execute_result"
    }
   ],
   "source": [
    "query_engine_tools[4](\"demographics\")"
   ]
  },
  {
   "cell_type": "markdown",
   "id": "cf2e41c1-3c68-4cc0-85f1-94eb21746bac",
   "metadata": {},
   "source": [
    "### Test out Queries"
   ]
  },
  {
   "cell_type": "code",
   "execution_count": 23,
   "id": "54484552-e53f-4548-8719-8c188179b596",
   "metadata": {},
   "outputs": [
    {
     "name": "stdout",
     "output_type": "stream",
     "text": [
      "> Running step 6b7b5f21-ed65-44f0-b485-0d44f9545cd3 for task da412cdf-ad04-48ea-b8e3-90f2b6163c56.\n",
      "> Step count: 0\n",
      "\u001b[1;3;38;5;200m> Plan: 1. vector_tool_Toronto('demographics')\n",
      "2. vector_tool_Chicago('demographics')\n",
      "Thought: I can answer the question now.\n",
      "3. join()<END_OF_PLAN>\n",
      "\u001b[0m\u001b[1;3;34mRan task: vector_tool_Chicago. Observation: Chicago has a diverse demographic makeup. As of July 2019, the largest racial or ethnic group is non-Hispanic White at 32.8% of the population, followed by Blacks at 30.1% and the Hispanic population at 29.0%. The city has the third-largest LGBT population in the United States, with an estimated 7.5% of the adult population identifying as LGBTQ in 2018. The city has also been a destination for waves of immigrants from various parts of the world, including Ireland, Southern, Central and Eastern Europe, and Africa. Most of Chicago's foreign-born population were born in Mexico, Poland, and India. The city's population declined in the latter half of the 20th century, but has seen a rise in the 2000 census and again in the 2020 census.\n",
      "\u001b[0m\u001b[1;3;34mRan task: vector_tool_Toronto. Observation: As of the 2021 Census, Toronto had a population of 2,794,356 living in 1,160,892 of its 1,253,238 total private dwellings. This was a 2.3% increase from its 2016 population of 2,731,571. The city has a land area of 631.1 km2 and a population density of 4,427.8/km2. The median age was 39.3 years, with 14.5% of the population aged 14 years and under, and 15.6% aged 65 years and over. The gender distribution was 48% male and 52% female. Immigrants made up 46.6% of the total population, with the top countries of origin being the Philippines, China, India, Sri Lanka, and Jamaica. The city's foreign-born population made up 47% of the total population. The three most commonly reported ethnic origins in 2016 were Chinese, English, and Canadian. In terms of religion, Christianity was the most followed, with 46.2% of the population identifying as Christian, followed by those with no religion or secular perspectives (30.6%), Islam (9.6%), Hinduism (6.2%), Judaism (3.6%), Buddhism (2.3%), Sikhism (0.8%), Indigenous Spirituality (<0.1%), and other religions (0.8%). English was the predominant language, with approximately 95% of residents having proficiency in the language.\n",
      "\u001b[0m\u001b[1;3;34mRan task: join. Observation: None\n",
      "\u001b[0m\u001b[1;3;38;5;200m> Thought: Toronto has a larger population than Chicago, with a higher population density. Toronto also has a higher percentage of immigrants, with the top countries of origin being the Philippines, China, India, Sri Lanka, and Jamaica. In contrast, most of Chicago's foreign-born population were born in Mexico, Poland, and India. Christianity is the most followed religion in Toronto, while Chicago has a diverse demographic makeup with non-Hispanic White being the largest racial or ethnic group. English is the predominant language in both cities.\n",
      "\u001b[0m\u001b[1;3;38;5;200m> Answer: Toronto has a larger population than Chicago, with a higher population density. Toronto also has a higher percentage of immigrants, with the top countries of origin being the Philippines, China, India, Sri Lanka, and Jamaica. In contrast, most of Chicago's foreign-born population were born in Mexico, Poland, and India. Christianity is the most followed religion in Toronto, while Chicago has a diverse demographic makeup with non-Hispanic White being the largest racial or ethnic group. English is the predominant language in both cities.\n",
      "\u001b[0mToronto has a larger population than Chicago, with a higher population density. Toronto also has a higher percentage of immigrants, with the top countries of origin being the Philippines, China, India, Sri Lanka, and Jamaica. In contrast, most of Chicago's foreign-born population were born in Mexico, Poland, and India. Christianity is the most followed religion in Toronto, while Chicago has a diverse demographic makeup with non-Hispanic White being the largest racial or ethnic group. English is the predominant language in both cities.\n"
     ]
    }
   ],
   "source": [
    "response = agent.chat(\n",
    "    \"Tell me about the demographics of Toronto, and compare that with the demographics of Chicago?\"\n",
    ")\n",
    "print(str(response))"
   ]
  },
  {
   "cell_type": "code",
   "execution_count": 23,
   "id": "e1e0c219-ce9b-435c-86e1-85f5aaf3afe8",
   "metadata": {},
   "outputs": [
    {
     "name": "stdout",
     "output_type": "stream",
     "text": [
      "> Running step 36df1258-71d3-4e1e-a021-e63977d4b442 for task 15b80ffd-c831-4628-9c68-a6b354da9677.\n",
      "> Step count: 0\n",
      "\u001b[1;3;38;5;200m> Plan: 1. vector_tool_Chicago('climate during wintertime')\n",
      "2. vector_tool_Seattle('climate during wintertime')\n",
      "3. join()<END_OF_PLAN>\n",
      "\u001b[0m\u001b[1;3;34mRan task: vector_tool_Seattle. Observation: During wintertime, Seattle experiences cool, wet weather. Extreme cold temperatures, below about 15 °F or -9 °C, are rare due to the moderating influence of the adjacent Puget Sound, the greater Pacific Ocean, and Lake Washington. The city is often cloudy due to frequent storms and lows moving in from the Pacific Ocean.\n",
      "\u001b[0m\u001b[1;3;34mRan task: vector_tool_Chicago. Observation: During wintertime, the city experiences relatively cold and snowy conditions. Blizzards can occur, as seen in winter 2011. The normal winter high from December through March is about 36 °F (2 °C). January and February are the coldest months. A polar vortex in January 2019 nearly broke the city's cold record of −27 °F (−33 °C), which was set on January 20, 1985. Measurable snowfall can continue through the first or second week of April. The city's proximity to Lake Michigan tends to keep the lakefront somewhat cooler in summer and less brutally cold in winter than inland parts of the city and suburbs away from the lake. Northeast winds from wintertime cyclones departing south of the region sometimes bring the city lake-effect snow.\n",
      "\u001b[0m\u001b[1;3;34mRan task: join. Observation: None\n",
      "\u001b[0m\u001b[1;3;38;5;200m> Thought: Comparing the two climates, Seattle seems to have a milder winter climate than Chicago.\n",
      "\u001b[0m\u001b[1;3;38;5;200m> Answer: Seattle\n",
      "\u001b[0mSeattle\n"
     ]
    }
   ],
   "source": [
    "response = agent.chat(\n",
    "    \"Is the climate of Chicago or Seattle better during the wintertime?\"\n",
    ")\n",
    "print(str(response))"
   ]
  },
  {
   "cell_type": "code",
   "execution_count": null,
   "id": "dcc9b12c-3c30-46f0-8d04-96fffc0d45f9",
   "metadata": {},
   "outputs": [],
   "source": []
  }
 ],
 "metadata": {
  "kernelspec": {
   "display_name": "llama_hub",
   "language": "python",
   "name": "llama_hub"
  },
  "language_info": {
   "codemirror_mode": {
    "name": "ipython",
    "version": 3
   },
   "file_extension": ".py",
   "mimetype": "text/x-python",
   "name": "python",
   "nbconvert_exporter": "python",
   "pygments_lexer": "ipython3",
   "version": "3.10.8"
  }
 },
 "nbformat": 4,
 "nbformat_minor": 5
}
