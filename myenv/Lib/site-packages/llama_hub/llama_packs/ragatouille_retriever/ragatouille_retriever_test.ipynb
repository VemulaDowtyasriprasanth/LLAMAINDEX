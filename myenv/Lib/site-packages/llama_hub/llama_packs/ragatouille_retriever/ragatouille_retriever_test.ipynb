{
 "cells": [
  {
   "cell_type": "markdown",
   "id": "183222bc-eb44-4385-8bf0-2dc55263ec2f",
   "metadata": {},
   "source": [
    "# RAGatouille Test\n",
    "\n",
    "Seems like it throws an error on Colbertv2? When loaded through llamaindex."
   ]
  },
  {
   "cell_type": "markdown",
   "id": "65bbc8e8-f9e3-4d5c-8c36-309cac65969a",
   "metadata": {},
   "source": [
    "## Load Documents\n",
    "\n",
    "Here we load the ColBERTv2 paper: https://arxiv.org/pdf/2112.01488.pdf."
   ]
  },
  {
   "cell_type": "code",
   "execution_count": 1,
   "id": "e8cde968-5d4f-42c3-b2c6-dd97b4656901",
   "metadata": {},
   "outputs": [
    {
     "name": "stdout",
     "output_type": "stream",
     "text": [
      "--2024-01-04 15:53:41--  https://arxiv.org/pdf/2112.01488.pdf\n",
      "Resolving arxiv.org (arxiv.org)... 151.101.195.42, 151.101.3.42, 151.101.67.42, ...\n",
      "Connecting to arxiv.org (arxiv.org)|151.101.195.42|:443... connected.\n",
      "HTTP request sent, awaiting response... 200 OK\n",
      "Length: 1081592 (1.0M) [application/pdf]\n",
      "Saving to: ‘colbertv2.pdf’\n",
      "\n",
      "colbertv2.pdf       100%[===================>]   1.03M  --.-KB/s    in 0.05s   \n",
      "\n",
      "2024-01-04 15:53:41 (20.2 MB/s) - ‘colbertv2.pdf’ saved [1081592/1081592]\n",
      "\n"
     ]
    }
   ],
   "source": [
    "!wget \"https://arxiv.org/pdf/2112.01488.pdf\" -O colbertv2.pdf"
   ]
  },
  {
   "cell_type": "code",
   "execution_count": 2,
   "id": "dc41a62d-7d3e-431c-9d8a-08447df14b11",
   "metadata": {},
   "outputs": [],
   "source": [
    "from llama_index import SimpleDirectoryReader\n",
    "from llama_index.llms import OpenAI\n",
    "\n",
    "reader = SimpleDirectoryReader(input_files=[\"colbertv2.pdf\"])\n",
    "docs = reader.load_data()"
   ]
  },
  {
   "cell_type": "code",
   "execution_count": 3,
   "id": "5f5d45e8-e25b-44c9-8251-7e3d7dadea93",
   "metadata": {},
   "outputs": [
    {
     "name": "stderr",
     "output_type": "stream",
     "text": [
      "/Users/jerryliu/Programming/llama-hub/.venv/lib/python3.10/site-packages/tqdm/auto.py:21: TqdmWarning: IProgress not found. Please update jupyter and ipywidgets. See https://ipywidgets.readthedocs.io/en/stable/user_install.html\n",
      "  from .autonotebook import tqdm as notebook_tqdm\n"
     ]
    }
   ],
   "source": [
    "from ragatouille import RAGPretrainedModel\n",
    "\n",
    "RAG = RAGPretrainedModel.from_pretrained(\"colbert-ir/colbertv2.0\")"
   ]
  },
  {
   "cell_type": "code",
   "execution_count": 4,
   "id": "527d9de7-602f-49c5-82da-390835dae312",
   "metadata": {},
   "outputs": [
    {
     "name": "stdout",
     "output_type": "stream",
     "text": [
      "\n",
      "\n",
      "[Jan 04, 15:53:45] #> Note: Output directory .ragatouille/colbert/indexes/my_index_test already exists\n",
      "\n",
      "\n",
      "[Jan 04, 15:53:45] #> Will delete 10 files already at .ragatouille/colbert/indexes/my_index_test in 20 seconds...\n",
      "#> Starting...\n",
      "[Jan 04, 15:54:08] Loading segmented_maxsim_cpp extension (set COLBERT_LOAD_TORCH_EXTENSION_VERBOSE=True for more info)...\n"
     ]
    },
    {
     "name": "stderr",
     "output_type": "stream",
     "text": [
      "/Users/jerryliu/Programming/llama-hub/.venv/lib/python3.10/site-packages/torch/cuda/amp/grad_scaler.py:125: UserWarning: torch.cuda.amp.GradScaler is enabled, but CUDA is not available.  Disabling.\n",
      "  warnings.warn(\n",
      "  0%|          | 0/3 [00:00<?, ?it/s]/Users/jerryliu/Programming/llama-hub/.venv/lib/python3.10/site-packages/torch/amp/autocast_mode.py:250: UserWarning: User provided device_type of 'cuda', but CUDA is not available. Disabling\n",
      "  warnings.warn(\n"
     ]
    },
    {
     "name": "stdout",
     "output_type": "stream",
     "text": [
      "[Jan 04, 15:54:09] [0] \t\t #> Encoding 129 passages..\n"
     ]
    },
    {
     "name": "stderr",
     "output_type": "stream",
     "text": [
      " 33%|███▎      | 1/3 [00:03<00:06,  3.48s/it]/Users/jerryliu/Programming/llama-hub/.venv/lib/python3.10/site-packages/torch/amp/autocast_mode.py:250: UserWarning: User provided device_type of 'cuda', but CUDA is not available. Disabling\n",
      "  warnings.warn(\n",
      "100%|██████████| 3/3 [00:06<00:00,  2.25s/it]\n",
      "WARNING clustering 21076 points to 2048 centroids: please provide at least 79872 training points\n"
     ]
    },
    {
     "name": "stdout",
     "output_type": "stream",
     "text": [
      "[Jan 04, 15:54:15] [0] \t\t avg_doclen_est = 171.97674560546875 \t len(local_sample) = 129\n",
      "[Jan 04, 15:54:15] [0] \t\t Creating 2,048 partitions.\n",
      "[Jan 04, 15:54:15] [0] \t\t *Estimated* 22,185 embeddings.\n",
      "[Jan 04, 15:54:15] [0] \t\t #> Saving the indexing plan to .ragatouille/colbert/indexes/my_index_test/plan.json ..\n",
      "Clustering 21076 points in 128D to 2048 clusters, redo 1 times, 20 iterations\n",
      "  Preprocessing in 0.00 s\n",
      "[0.035, 0.036, 0.034, 0.032, 0.031, 0.034, 0.033, 0.032, 0.034, 0.035, 0.034, 0.033, 0.031, 0.036, 0.034, 0.035, 0.033, 0.033, 0.034, 0.034, 0.034, 0.036, 0.034, 0.036, 0.031, 0.033, 0.034, 0.035, 0.035, 0.035, 0.034, 0.038, 0.035, 0.034, 0.033, 0.031, 0.035, 0.035, 0.033, 0.037, 0.035, 0.034, 0.034, 0.034, 0.034, 0.033, 0.033, 0.037, 0.035, 0.033, 0.033, 0.035, 0.036, 0.035, 0.033, 0.036, 0.038, 0.035, 0.037, 0.033, 0.034, 0.038, 0.035, 0.034, 0.037, 0.036, 0.037, 0.034, 0.031, 0.033, 0.035, 0.033, 0.034, 0.035, 0.036, 0.034, 0.034, 0.036, 0.036, 0.035, 0.035, 0.035, 0.036, 0.036, 0.032, 0.035, 0.035, 0.036, 0.031, 0.037, 0.033, 0.036, 0.035, 0.036, 0.033, 0.034, 0.035, 0.033, 0.034, 0.034, 0.036, 0.038, 0.033, 0.033, 0.035, 0.032, 0.032, 0.032, 0.035, 0.034, 0.033, 0.035, 0.036, 0.033, 0.035, 0.035, 0.035, 0.035, 0.034, 0.036, 0.032, 0.033, 0.035, 0.037, 0.034, 0.038, 0.033, 0.031]\n",
      "[Jan 04, 15:54:16] [0] \t\t #> Encoding 129 passages..\n"
     ]
    },
    {
     "name": "stderr",
     "output_type": "stream",
     "text": [
      "0it [00:00, ?it/s]\n",
      "  0%|          | 0/3 [00:00<?, ?it/s]\u001b[A\n",
      " 33%|███▎      | 1/3 [00:03<00:06,  3.31s/it]\u001b[A\n",
      " 67%|██████▋   | 2/3 [00:06<00:03,  3.46s/it]\u001b[A\n",
      "100%|██████████| 3/3 [00:06<00:00,  2.33s/it]\u001b[A\n",
      "1it [00:07,  7.08s/it]\n",
      "100%|██████████| 1/1 [00:00<00:00, 3650.40it/s]\n",
      "  0%|          | 0/2048 [00:00<?, ?it/s]"
     ]
    },
    {
     "name": "stdout",
     "output_type": "stream",
     "text": [
      "[Jan 04, 15:54:23] #> Optimizing IVF to store map from centroids to list of pids..\n",
      "[Jan 04, 15:54:23] #> Building the emb2pid mapping..\n",
      "[Jan 04, 15:54:23] len(emb2pid) = 22185\n",
      "[Jan 04, 15:54:23] #> Saved optimized IVF to .ragatouille/colbert/indexes/my_index_test/ivf.pid.pt\n",
      "\n"
     ]
    },
    {
     "name": "stderr",
     "output_type": "stream",
     "text": [
      "100%|██████████| 2048/2048 [00:00<00:00, 326278.52it/s]\n"
     ]
    },
    {
     "name": "stdout",
     "output_type": "stream",
     "text": [
      "#> Joined...\n",
      "Done indexing!\n"
     ]
    }
   ],
   "source": [
    "doc_txts = [doc.get_content() for doc in docs]\n",
    "index_path = RAG.index(index_name=\"my_index_test\", collection=doc_txts)"
   ]
  },
  {
   "cell_type": "code",
   "execution_count": 5,
   "id": "e610bfc1-9ad3-45ca-8fa0-afdb81c82a46",
   "metadata": {},
   "outputs": [
    {
     "name": "stdout",
     "output_type": "stream",
     "text": [
      "New index_name received! Updating current index_name (my_index_test) to my_index_test\n",
      "Loading searcher for index my_index_test for the first time... This may take a few seconds\n",
      "[Jan 04, 15:54:24] Loading segmented_maxsim_cpp extension (set COLBERT_LOAD_TORCH_EXTENSION_VERBOSE=True for more info)...\n",
      "[Jan 04, 15:54:25] #> Loading codec...\n",
      "[Jan 04, 15:54:25] #> Loading IVF...\n",
      "[Jan 04, 15:54:25] Loading segmented_lookup_cpp extension (set COLBERT_LOAD_TORCH_EXTENSION_VERBOSE=True for more info)...\n"
     ]
    },
    {
     "name": "stderr",
     "output_type": "stream",
     "text": [
      "/Users/jerryliu/Programming/llama-hub/.venv/lib/python3.10/site-packages/torch/cuda/amp/grad_scaler.py:125: UserWarning: torch.cuda.amp.GradScaler is enabled, but CUDA is not available.  Disabling.\n",
      "  warnings.warn(\n"
     ]
    },
    {
     "name": "stdout",
     "output_type": "stream",
     "text": [
      "[Jan 04, 15:54:25] #> Loading doclens...\n"
     ]
    },
    {
     "name": "stderr",
     "output_type": "stream",
     "text": [
      "100%|█████████████████████████████████████████████████████████████████████████████████████████████████████████████████████████████████████████████████████████████████████████████████████| 1/1 [00:00<00:00, 4882.78it/s]"
     ]
    },
    {
     "name": "stdout",
     "output_type": "stream",
     "text": [
      "[Jan 04, 15:54:25] #> Loading codes and residuals...\n"
     ]
    },
    {
     "name": "stderr",
     "output_type": "stream",
     "text": [
      "\n",
      "100%|██████████████████████████████████████████████████████████████████████████████████████████████████████████████████████████████████████████████████████████████████████████████████████| 1/1 [00:00<00:00, 479.35it/s]"
     ]
    },
    {
     "name": "stdout",
     "output_type": "stream",
     "text": [
      "[Jan 04, 15:54:25] Loading filter_pids_cpp extension (set COLBERT_LOAD_TORCH_EXTENSION_VERBOSE=True for more info)...\n"
     ]
    },
    {
     "name": "stderr",
     "output_type": "stream",
     "text": [
      "\n"
     ]
    },
    {
     "name": "stdout",
     "output_type": "stream",
     "text": [
      "[Jan 04, 15:54:25] Loading decompress_residuals_cpp extension (set COLBERT_LOAD_TORCH_EXTENSION_VERBOSE=True for more info)...\n",
      "Searcher loaded!\n",
      "\n",
      "#> QueryTokenizer.tensorize(batch_text[0], batch_background[0], bsize) ==\n",
      "#> Input: . How does ColBERTv2 compare with SPLADEv2?, \t\t True, \t\t None\n",
      "#> Output IDs: torch.Size([32]), tensor([  101,     1,  2129,  2515, 23928,  2615,  2475, 12826,  2007, 11867,\n",
      "        27266,  6777,  2475,  1029,   102,   103,   103,   103,   103,   103,\n",
      "          103,   103,   103,   103,   103,   103,   103,   103,   103,   103,\n",
      "          103,   103])\n",
      "#> Output Mask: torch.Size([32]), tensor([1, 1, 1, 1, 1, 1, 1, 1, 1, 1, 1, 1, 1, 1, 1, 0, 0, 0, 0, 0, 0, 0, 0, 0,\n",
      "        0, 0, 0, 0, 0, 0, 0, 0])\n",
      "\n"
     ]
    },
    {
     "name": "stderr",
     "output_type": "stream",
     "text": [
      "/Users/jerryliu/Programming/llama-hub/.venv/lib/python3.10/site-packages/torch/amp/autocast_mode.py:250: UserWarning: User provided device_type of 'cuda', but CUDA is not available. Disabling\n",
      "  warnings.warn(\n"
     ]
    },
    {
     "ename": "IndexError",
     "evalue": "list index out of range",
     "output_type": "error",
     "traceback": [
      "\u001b[0;31m---------------------------------------------------------------------------\u001b[0m",
      "\u001b[0;31mIndexError\u001b[0m                                Traceback (most recent call last)",
      "Cell \u001b[0;32mIn[5], line 1\u001b[0m\n\u001b[0;32m----> 1\u001b[0m tmp \u001b[38;5;241m=\u001b[39m \u001b[43mRAG\u001b[49m\u001b[38;5;241;43m.\u001b[39;49m\u001b[43msearch\u001b[49m\u001b[43m(\u001b[49m\u001b[38;5;124;43m\"\u001b[39;49m\u001b[38;5;124;43mHow does ColBERTv2 compare with SPLADEv2?\u001b[39;49m\u001b[38;5;124;43m\"\u001b[39;49m\u001b[43m,\u001b[49m\u001b[43m \u001b[49m\u001b[43mindex_name\u001b[49m\u001b[38;5;241;43m=\u001b[39;49m\u001b[38;5;124;43m\"\u001b[39;49m\u001b[38;5;124;43mmy_index_test\u001b[39;49m\u001b[38;5;124;43m\"\u001b[39;49m\u001b[43m)\u001b[49m\n",
      "File \u001b[0;32m~/Programming/llama-hub/.venv/lib/python3.10/site-packages/ragatouille/RAGPretrainedModel.py:179\u001b[0m, in \u001b[0;36mRAGPretrainedModel.search\u001b[0;34m(self, query, index_name, k, force_fast, zero_index_ranks, **kwargs)\u001b[0m\n\u001b[1;32m    153\u001b[0m \u001b[38;5;28;01mdef\u001b[39;00m \u001b[38;5;21msearch\u001b[39m(\n\u001b[1;32m    154\u001b[0m     \u001b[38;5;28mself\u001b[39m,\n\u001b[1;32m    155\u001b[0m     query: Union[\u001b[38;5;28mstr\u001b[39m, \u001b[38;5;28mlist\u001b[39m[\u001b[38;5;28mstr\u001b[39m]],\n\u001b[0;32m   (...)\u001b[0m\n\u001b[1;32m    160\u001b[0m     \u001b[38;5;241m*\u001b[39m\u001b[38;5;241m*\u001b[39mkwargs,\n\u001b[1;32m    161\u001b[0m ):\n\u001b[1;32m    162\u001b[0m \u001b[38;5;250m    \u001b[39m\u001b[38;5;124;03m\"\"\"Query an index.\u001b[39;00m\n\u001b[1;32m    163\u001b[0m \n\u001b[1;32m    164\u001b[0m \u001b[38;5;124;03m    Parameters:\u001b[39;00m\n\u001b[0;32m   (...)\u001b[0m\n\u001b[1;32m    177\u001b[0m \u001b[38;5;124;03m    ```\u001b[39;00m\n\u001b[1;32m    178\u001b[0m \u001b[38;5;124;03m    \"\"\"\u001b[39;00m\n\u001b[0;32m--> 179\u001b[0m     \u001b[38;5;28;01mreturn\u001b[39;00m \u001b[38;5;28;43mself\u001b[39;49m\u001b[38;5;241;43m.\u001b[39;49m\u001b[43mmodel\u001b[49m\u001b[38;5;241;43m.\u001b[39;49m\u001b[43msearch\u001b[49m\u001b[43m(\u001b[49m\n\u001b[1;32m    180\u001b[0m \u001b[43m        \u001b[49m\u001b[43mquery\u001b[49m\u001b[38;5;241;43m=\u001b[39;49m\u001b[43mquery\u001b[49m\u001b[43m,\u001b[49m\n\u001b[1;32m    181\u001b[0m \u001b[43m        \u001b[49m\u001b[43mindex_name\u001b[49m\u001b[38;5;241;43m=\u001b[39;49m\u001b[43mindex_name\u001b[49m\u001b[43m,\u001b[49m\n\u001b[1;32m    182\u001b[0m \u001b[43m        \u001b[49m\u001b[43mk\u001b[49m\u001b[38;5;241;43m=\u001b[39;49m\u001b[43mk\u001b[49m\u001b[43m,\u001b[49m\n\u001b[1;32m    183\u001b[0m \u001b[43m        \u001b[49m\u001b[43mforce_fast\u001b[49m\u001b[38;5;241;43m=\u001b[39;49m\u001b[43mforce_fast\u001b[49m\u001b[43m,\u001b[49m\n\u001b[1;32m    184\u001b[0m \u001b[43m        \u001b[49m\u001b[43mzero_index_ranks\u001b[49m\u001b[38;5;241;43m=\u001b[39;49m\u001b[43mzero_index_ranks\u001b[49m\u001b[43m,\u001b[49m\n\u001b[1;32m    185\u001b[0m \u001b[43m        \u001b[49m\u001b[38;5;241;43m*\u001b[39;49m\u001b[38;5;241;43m*\u001b[39;49m\u001b[43mkwargs\u001b[49m\u001b[43m,\u001b[49m\n\u001b[1;32m    186\u001b[0m \u001b[43m    \u001b[49m\u001b[43m)\u001b[49m\n",
      "File \u001b[0;32m~/Programming/llama-hub/.venv/lib/python3.10/site-packages/ragatouille/models/colbert.py:253\u001b[0m, in \u001b[0;36mColBERT.search\u001b[0;34m(self, query, index_name, k, force_fast, zero_index_ranks)\u001b[0m\n\u001b[1;32m    249\u001b[0m     result_for_query \u001b[38;5;241m=\u001b[39m []\n\u001b[1;32m    250\u001b[0m     \u001b[38;5;28;01mfor\u001b[39;00m id_, rank, score \u001b[38;5;129;01min\u001b[39;00m \u001b[38;5;28mzip\u001b[39m(\u001b[38;5;241m*\u001b[39mresult):\n\u001b[1;32m    251\u001b[0m         result_for_query\u001b[38;5;241m.\u001b[39mappend(\n\u001b[1;32m    252\u001b[0m             {\n\u001b[0;32m--> 253\u001b[0m                 \u001b[38;5;124m\"\u001b[39m\u001b[38;5;124mcontent\u001b[39m\u001b[38;5;124m\"\u001b[39m: \u001b[38;5;28;43mself\u001b[39;49m\u001b[38;5;241;43m.\u001b[39;49m\u001b[43msearcher\u001b[49m\u001b[38;5;241;43m.\u001b[39;49m\u001b[43mcollection\u001b[49m\u001b[43m[\u001b[49m\u001b[43mid_\u001b[49m\u001b[43m]\u001b[49m,\n\u001b[1;32m    254\u001b[0m                 \u001b[38;5;124m\"\u001b[39m\u001b[38;5;124mscore\u001b[39m\u001b[38;5;124m\"\u001b[39m: score,\n\u001b[1;32m    255\u001b[0m                 \u001b[38;5;124m\"\u001b[39m\u001b[38;5;124mrank\u001b[39m\u001b[38;5;124m\"\u001b[39m: rank \u001b[38;5;241m-\u001b[39m \u001b[38;5;241m1\u001b[39m \u001b[38;5;28;01mif\u001b[39;00m zero_index_ranks \u001b[38;5;28;01melse\u001b[39;00m rank,\n\u001b[1;32m    256\u001b[0m             }\n\u001b[1;32m    257\u001b[0m         )\n\u001b[1;32m    258\u001b[0m     to_return\u001b[38;5;241m.\u001b[39mappend(result_for_query)\n\u001b[1;32m    260\u001b[0m \u001b[38;5;28;01mif\u001b[39;00m \u001b[38;5;28mlen\u001b[39m(to_return) \u001b[38;5;241m==\u001b[39m \u001b[38;5;241m1\u001b[39m:\n",
      "File \u001b[0;32m~/Programming/llama-hub/.venv/lib/python3.10/site-packages/colbert/data/collection.py:25\u001b[0m, in \u001b[0;36mCollection.__getitem__\u001b[0;34m(self, item)\u001b[0m\n\u001b[1;32m     23\u001b[0m \u001b[38;5;28;01mdef\u001b[39;00m \u001b[38;5;21m__getitem__\u001b[39m(\u001b[38;5;28mself\u001b[39m, item):\n\u001b[1;32m     24\u001b[0m     \u001b[38;5;66;03m# TODO: Load from disk the first time this is called. Unless self.data is already not None.\u001b[39;00m\n\u001b[0;32m---> 25\u001b[0m     \u001b[38;5;28;01mreturn\u001b[39;00m \u001b[38;5;28;43mself\u001b[39;49m\u001b[38;5;241;43m.\u001b[39;49m\u001b[43mdata\u001b[49m\u001b[43m[\u001b[49m\u001b[43mitem\u001b[49m\u001b[43m]\u001b[49m\n",
      "\u001b[0;31mIndexError\u001b[0m: list index out of range"
     ]
    }
   ],
   "source": [
    "tmp = RAG.search(\n",
    "    \"How does ColBERTv2 compare with SPLADEv2?\", index_name=\"my_index_test\"\n",
    ")"
   ]
  },
  {
   "cell_type": "code",
   "execution_count": null,
   "id": "5e708991-72e8-4fa1-ade9-18fbd5e00792",
   "metadata": {},
   "outputs": [],
   "source": []
  },
  {
   "cell_type": "code",
   "execution_count": null,
   "id": "aad3d4ff-b7e5-461d-8899-1446d12b1038",
   "metadata": {},
   "outputs": [],
   "source": []
  }
 ],
 "metadata": {
  "kernelspec": {
   "display_name": "llama_hub",
   "language": "python",
   "name": "llama_hub"
  },
  "language_info": {
   "codemirror_mode": {
    "name": "ipython",
    "version": 3
   },
   "file_extension": ".py",
   "mimetype": "text/x-python",
   "name": "python",
   "nbconvert_exporter": "python",
   "pygments_lexer": "ipython3",
   "version": "3.10.8"
  }
 },
 "nbformat": 4,
 "nbformat_minor": 5
}
